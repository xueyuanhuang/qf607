{
 "cells": [
  {
   "cell_type": "code",
   "execution_count": 1,
   "id": "74b1c724-c2a3-4d5f-932a-57a20bb6e852",
   "metadata": {},
   "outputs": [],
   "source": [
    "import math\n",
    "import time\n",
    "\n",
    "import numpy\n",
    "\n",
    "from binomial import *\n",
    "\n",
    "class KnockInOption():\n",
    "    def __init__(self, downBarrier, upBarrier, barrierStart, barrierEnd, underlyingOption):\n",
    "        self.underlyingOption = underlyingOption\n",
    "        self.barrierStart = barrierStart\n",
    "        self.barrierEnd = barrierEnd\n",
    "        self.downBarrier = downBarrier\n",
    "        self.upBarrier = upBarrier\n",
    "        self.expiry = underlyingOption.expiry\n",
    "    def triggerBarrier(self, t, S):\n",
    "        if t > self.barrierStart and t < self.barrierEnd:\n",
    "            if self.upBarrier != None and S > self.upBarrier:\n",
    "                return True\n",
    "            elif self.downBarrier != None and S < self.downBarrier:\n",
    "                return True\n",
    "        return False\n",
    "    # for knock-in options we define two states,\n",
    "    # first state is the option value if the knock-in is not triggered in previous steps\n",
    "    # second state is the option value if the knock-in has been triggered\n",
    "    # and we merged payoff function, if continuation is none then it's the last time step\n",
    "    def valueAtNode(self, t, S, continuation):\n",
    "        if continuation == None:\n",
    "            notKnockedInTerminalValue = 0\n",
    "            if self.triggerBarrier(t, S):  # if the trade is not knocked in,\n",
    "                # it is still possible to knock in at the last time step\n",
    "                notKnockedInTerminalValue = self.underlyingOption.payoff(S)\n",
    "                # if the trade is knocked in already\n",
    "            knockedInTerminalValue = self.underlyingOption.payoff(S)\n",
    "            return [notKnockedInTerminalValue, knockedInTerminalValue]\n",
    "        else:\n",
    "            nodeValues = continuation\n",
    "            # calculate state 0: if no hit at previous steps\n",
    "            if self.triggerBarrier(t, S):\n",
    "                nodeValues[0] = continuation[1]\n",
    "            # otherwise just carrier the two continuation values\n",
    "        return nodeValues"
   ]
  },
  {
   "cell_type": "code",
   "execution_count": 2,
   "id": "c2cc1721-89ca-43a7-8eba-ea8680ac5862",
   "metadata": {},
   "outputs": [],
   "source": [
    "import math\n",
    "from enum import Enum\n",
    "class PayoffType(str, Enum):\n",
    "    Call = 'Call'\n",
    "    Put = 'Put'"
   ]
  },
  {
   "cell_type": "code",
   "execution_count": 3,
   "id": "cd7e4579-d9cb-447f-bcf1-881768fcce6e",
   "metadata": {},
   "outputs": [],
   "source": [
    "class EuropeanOption():\n",
    "    def __init__(self, expiry, strike, payoffType):\n",
    "        self.expiry = expiry\n",
    "        self.strike = strike\n",
    "        self.payoffType = payoffType\n",
    "    def payoff(self, S):\n",
    "        if self.payoffType == PayoffType.Call:\n",
    "            return max(S - self.strike, 0)\n",
    "        elif self.payoffType == PayoffType.Put:\n",
    "            return max(self.strike - S, 0)\n",
    "        else:\n",
    "            raise Exception(\"payoffType not supported: \", self.payoffType)\n",
    "    def valueAtNode(self, t, S, continuation):\n",
    "        if continuation == None:\n",
    "            return self.payoff(S)\n",
    "        else:\n",
    "            return continuation"
   ]
  },
  {
   "cell_type": "code",
   "execution_count": 6,
   "id": "1c610451-1819-497f-8eb4-4d9b0c9fbb59",
   "metadata": {},
   "outputs": [],
   "source": [
    "def binomialPricerX(S, r, vol, trade, n, calib):\n",
    "    t = trade.expiry / n\n",
    "    (u, d, p) = calib(r, vol, t)\n",
    "    # set up the last time slice, there are n+1 nodes at the last time slice\n",
    "    vs = [trade.valueAtNode(trade.expiry, S * u ** (n - i) * d ** i, None) for i in range(n + 1)]\n",
    "    numStates = len(vs[0])\n",
    "    # iterate backward\n",
    "    for i in range(n - 1, -1, -1):\n",
    "        # calculate the value of each node at time slide i, there are i nodes\n",
    "        for j in range(i + 1):\n",
    "            nodeS = S * u ** (i - j) * d ** j\n",
    "            continuation = [math.exp(-r * t) * (vs[j][k] * p + vs[j + 1][k] * (1 - p)) for k in range(numStates)]\n",
    "            vs[j] = trade.valueAtNode(t * i, nodeS, continuation)\n",
    "    return vs[0][0]"
   ]
  },
  {
   "cell_type": "code",
   "execution_count": 8,
   "id": "8d7ccd80-235e-445f-8275-9ee15b722118",
   "metadata": {},
   "outputs": [
    {
     "data": {
      "text/plain": [
       "6.001588670701864"
      ]
     },
     "execution_count": 8,
     "metadata": {},
     "output_type": "execute_result"
    }
   ],
   "source": [
    "opt = EuropeanOption(1, 105, PayoffType.Call)\n",
    "ki = KnockInOption(90, 120, 0, 1, opt)\n",
    "S, r, vol = 100, 0.01, 0.2\n",
    "kiPrice = binomialPricerX(S, r, vol, ki, 300, crrCalib)\n",
    "kiPrice"
   ]
  },
  {
   "cell_type": "code",
   "execution_count": null,
   "id": "6da11dcd-ecae-42d6-8009-3d5326165550",
   "metadata": {},
   "outputs": [],
   "source": []
  }
 ],
 "metadata": {
  "kernelspec": {
   "display_name": "Python 3 (ipykernel)",
   "language": "python",
   "name": "python3"
  },
  "language_info": {
   "codemirror_mode": {
    "name": "ipython",
    "version": 3
   },
   "file_extension": ".py",
   "mimetype": "text/x-python",
   "name": "python",
   "nbconvert_exporter": "python",
   "pygments_lexer": "ipython3",
   "version": "3.12.0"
  }
 },
 "nbformat": 4,
 "nbformat_minor": 5
}
