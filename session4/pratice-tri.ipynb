{
 "cells": [
  {
   "cell_type": "code",
   "execution_count": 5,
   "id": "54b41b71-d503-4c0e-b919-fcbfb848ba5c",
   "metadata": {},
   "outputs": [],
   "source": [
    "import math\n",
    "from enum import Enum"
   ]
  },
  {
   "cell_type": "code",
   "execution_count": 6,
   "id": "f30e27ac-dcd5-4a76-a92b-be24fdb1a99e",
   "metadata": {},
   "outputs": [],
   "source": [
    "class PayoffType(str, Enum):\n",
    "    Call = 'Call'\n",
    "    Put = 'Put'"
   ]
  },
  {
   "cell_type": "code",
   "execution_count": 3,
   "id": "4de9d82b-e28e-44d5-b542-7a589ff7b5c8",
   "metadata": {},
   "outputs": [],
   "source": [
    "class EuropeanOption():\n",
    "    def __init__(self, expiry, strike, payoffType):\n",
    "        self.expiry = expiry\n",
    "        self.strike = strike\n",
    "        self.payoffType = payoffType\n",
    "    def payoff(self, S):\n",
    "        if self.payoffType == PayoffType.Call:\n",
    "            return max(S - self.strike, 0)\n",
    "        elif self.payoffType == PayoffType.Put:\n",
    "            return max(self.strike - S, 0)\n",
    "        else:\n",
    "            raise Exception(\"payoffType not supported: \", self.payoffType)\n",
    "    def valueAtNode(self, t, S, continuation):\n",
    "        if continuation == None:\n",
    "            return self.payoff(S)\n",
    "        else:\n",
    "            return continuation"
   ]
  },
  {
   "cell_type": "code",
   "execution_count": 1,
   "id": "38e8addb-8f4d-4f71-a0b7-25794f441c98",
   "metadata": {},
   "outputs": [],
   "source": [
    "# Trinomial Tree pricer\n",
    "def trinomialPricer(S, r, q, vol, trade, n, lmda):\n",
    "    t = trade.expiry / n\n",
    "    u = math.exp(lmda * vol * math.sqrt(t))\n",
    "    mu = r - q\n",
    "    pu = 1 / 2 / lmda / lmda + (mu - vol * vol / 2) / 2 / lmda / vol * math.sqrt(t)\n",
    "    pd = 1 / 2 / lmda / lmda - (mu - vol * vol / 2) / 2 / lmda / vol * math.sqrt(t)\n",
    "    pm = 1 - pu - pd\n",
    "    # set up the last time slice, there are 2n+1 nodes at the last time slice\n",
    "    # counting from the top, the i-th node's stock price is S * u^(n - i), i from 0 to n+1\n",
    "    vs = [trade.payoff(S * u ** (n - i)) for i in range(2*n + 1)]\n",
    "    # iterate backward\n",
    "    for i in range(n - 1, -1, -1):\n",
    "        # calculate the value of each node at time slide i, there are i nodes\n",
    "        for j in range(2*i + 1):\n",
    "            nodeS = S * u ** (i - j)\n",
    "            continuation = math.exp(-r * t) * (vs[j] * pu +  + vs[j+1] * pm + vs[j+2] * pd)\n",
    "            vs[j] = trade.valueAtNode(t * i, nodeS, continuation)\n",
    "    return vs[0]\n"
   ]
  },
  {
   "cell_type": "code",
   "execution_count": 27,
   "id": "4b163686-a756-46bf-8982-2357bb936318",
   "metadata": {},
   "outputs": [
    {
     "name": "stdout",
     "output_type": "stream",
     "text": [
      "Trinomial tree Price = \t  6.2982090564185835\n"
     ]
    }
   ],
   "source": [
    "S, r, vol = 100, 0.01, 0.2\n",
    "opt = EuropeanOption(1, 105, PayoffType.Call)\n",
    "prc = trinomialPricer(S, r, 0, vol, opt, 1000, math.sqrt(3))\n",
    "print(\"Trinomial tree Price = \\t \", prc)"
   ]
  },
  {
   "cell_type": "code",
   "execution_count": 24,
   "id": "e869d94e-9e2e-44a1-982e-443f10e58731",
   "metadata": {},
   "outputs": [
    {
     "data": {
      "text/plain": [
       "[104.99999981752637, 39.91376739893499, 0, 0, 0]"
      ]
     },
     "execution_count": 24,
     "metadata": {},
     "output_type": "execute_result"
    }
   ],
   "source": [
    "n = 2\n",
    "t = opt.expiry/n\n",
    "lmda = 2.623144635296316\n",
    "u = math.exp(lmda * vol * math.sqrt(t))\n",
    "vs = [opt.payoff(S * u ** (n - i)) for i in range(2*n + 1)]\n",
    "vs"
   ]
  },
  {
   "cell_type": "code",
   "execution_count": 22,
   "id": "4ab3bacf-344f-428c-9493-d0d5680eafe2",
   "metadata": {},
   "outputs": [],
   "source": [
    "def calibrate_lambda(S, K, vol, T, n, initial_lambda, tolerance, trade):\n",
    "    lambda_min, lambda_max = initial_lambda, initial_lambda * 2  # Set a range for lambda\n",
    "    lambda_calibrated = initial_lambda\n",
    "    node_difference = float('inf')\n",
    "    t = T/n\n",
    "\n",
    "    while abs(node_difference) > tolerance:\n",
    "        # Calculate the up and down factors\n",
    "        u = math.exp(lambda_calibrated * vol * math.sqrt(t))\n",
    "\n",
    "        # Build the final layer of the tree\n",
    "        vs = [trade.payoff(S * u ** (n - i)) for i in range(2*n+1)]\n",
    "\n",
    "        # Find the node closest to the strike price K\n",
    "        closest_node = min(vs, key=lambda x: abs(x-K))\n",
    "        node_difference = closest_node - K\n",
    "\n",
    "        # Adjust lambda\n",
    "        if node_difference > 0:\n",
    "            lambda_max = lambda_calibrated\n",
    "        else:\n",
    "            lambda_min = lambda_calibrated\n",
    "\n",
    "        lambda_calibrated = (lambda_max + lambda_min) / 2  # New lambda is the midpoint\n",
    "\n",
    "    return lambda_calibrated"
   ]
  },
  {
   "cell_type": "code",
   "execution_count": 23,
   "id": "f02cfb9a-46eb-419a-a839-88700c1b0cd3",
   "metadata": {},
   "outputs": [
    {
     "data": {
      "text/plain": [
       "2.623144635296316"
      ]
     },
     "execution_count": 23,
     "metadata": {},
     "output_type": "execute_result"
    }
   ],
   "source": [
    "calibrate_lambda(100, 105, 0.2, 1, 2, math.sqrt(3), 1e-8, opt)"
   ]
  },
  {
   "cell_type": "code",
   "execution_count": null,
   "id": "8be7b4c5-b1de-4c6d-9af5-ecc8a51878c7",
   "metadata": {},
   "outputs": [],
   "source": []
  }
 ],
 "metadata": {
  "kernelspec": {
   "display_name": "Python 3 (ipykernel)",
   "language": "python",
   "name": "python3"
  },
  "language_info": {
   "codemirror_mode": {
    "name": "ipython",
    "version": 3
   },
   "file_extension": ".py",
   "mimetype": "text/x-python",
   "name": "python",
   "nbconvert_exporter": "python",
   "pygments_lexer": "ipython3",
   "version": "3.12.0"
  }
 },
 "nbformat": 4,
 "nbformat_minor": 5
}
