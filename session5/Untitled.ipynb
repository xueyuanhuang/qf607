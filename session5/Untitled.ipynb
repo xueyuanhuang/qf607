{
 "cells": [
  {
   "cell_type": "code",
   "execution_count": 12,
   "id": "a44dac12-dd88-4ef3-9c14-ec4366e493a9",
   "metadata": {},
   "outputs": [
    {
     "name": "stdout",
     "output_type": "stream",
     "text": [
      "brackets: -0.4080000000000008 5.78\n"
     ]
    }
   ],
   "source": [
    "import math\n",
    "from scipy import optimize\n",
    "from binomial import *\n",
    "\n",
    "def rootBracketing(f, a, b, maxIter, factor):\n",
    "    for k in range(maxIter):\n",
    "        if f(a) * f(b) < 0:\n",
    "            return (a, b)\n",
    "        if abs(f(a)) < abs(f(b)):\n",
    "            a += factor * (a-b)  # if f(a) is closer to 0, change a\n",
    "        else:\n",
    "            b += factor * (b-a)  # if f(b) is closer to 0, change b\n",
    "    return (a, b)\n",
    "\n",
    "def testRootBracketin():\n",
    "    foo = lambda x : math.exp(x) - 5\n",
    "    a = 3.4\n",
    "    b = 5.78\n",
    "    (a_, b_) = rootBracketing(foo, a, b, 50, 1.6)\n",
    "    print(\"brackets:\", a_, b_)\n",
    "\n",
    "\n",
    "if __name__ == \"__main__\":\n",
    "    testRootBracketin()"
   ]
  },
  {
   "cell_type": "code",
   "execution_count": 13,
   "id": "4d5e4d3d-0ec2-428b-97fd-3a432dc2573a",
   "metadata": {},
   "outputs": [
    {
     "name": "stdout",
     "output_type": "stream",
     "text": [
      "(a, b) = ( 0.0001 , 0.5 )\n",
      "(a, b) = ( 0.0001 , 0.25005 )\n",
      "(a, b) = ( 0.0001 , 0.125075 )\n",
      "(a, b) = ( 0.06258749999999999 , 0.125075 )\n",
      "(a, b) = ( 0.09383124999999999 , 0.125075 )\n",
      "(a, b) = ( 0.09383124999999999 , 0.10945312499999998 )\n",
      "(a, b) = ( 0.09383124999999999 , 0.10164218749999998 )\n",
      "(a, b) = ( 0.09773671874999998 , 0.10164218749999998 )\n",
      "(a, b) = ( 0.09968945312499998 , 0.10164218749999998 )\n",
      "(a, b) = ( 0.09968945312499998 , 0.10066582031249999 )\n",
      "(a, b) = ( 0.09968945312499998 , 0.10017763671874999 )\n",
      "(a, b) = ( 0.09993354492187498 , 0.10017763671874999 )\n",
      "(a, b) = ( 0.09993354492187498 , 0.10005559082031248 )\n",
      "(a, b) = ( 0.09999456787109373 , 0.10005559082031248 )\n",
      "(a, b) = ( 0.09999456787109373 , 0.10002507934570311 )\n",
      "(a, b) = ( 0.09999456787109373 , 0.10000982360839841 )\n",
      "(a, b) = ( 0.09999456787109373 , 0.10000219573974607 )\n",
      "(a, b) = ( 0.0999983818054199 , 0.10000219573974607 )\n",
      "Method bisection: implied vol =  0.10000028877258299\n"
     ]
    }
   ],
   "source": [
    "def bisect(f, a, b, tol):\n",
    "    assert(a < b and f(a) * f(b) < 0)\n",
    "    c = (a+b) / 2\n",
    "    while (b-a)/2 > tol:\n",
    "        print(\"(a, b) = (\", a, \",\", b, \")\")\n",
    "        c = (a+b)/2\n",
    "        if abs(f(c)) < tol:\n",
    "            return c\n",
    "        else:\n",
    "            if f(a) * f(c) < 0:\n",
    "                b = c\n",
    "            else:\n",
    "                a = c\n",
    "    return c\n",
    "\n",
    "def testBisection():\n",
    "    # bs price for 10% vol\n",
    "    price = bsPrice(S=100, r=0.02, vol=0.1, T=1.0, strike=90, payoffType=PayoffType.Call)\n",
    "    f = lambda vol: (bsPrice(100, 0.02, vol, 1.0, 90, PayoffType.Call) - price)\n",
    "    a, b = 0.0001, 0.5\n",
    "    iv = bisect(f, a, b, 1e-6)\n",
    "    print(\"Method bisection: implied vol = \", iv)\n",
    "\n",
    "if __name__ == \"__main__\":\n",
    "    testBisection()"
   ]
  },
  {
   "cell_type": "code",
   "execution_count": 18,
   "id": "7142b975-2f93-45c8-9ce2-3a1a4528f0c3",
   "metadata": {},
   "outputs": [
    {
     "name": "stdout",
     "output_type": "stream",
     "text": [
      "(a,b) = ( 0.0001 , 0.5 )\n",
      "(a,b) = ( 0.5 , 0.017869297108060234 )\n",
      "(a,b) = ( 0.017869297108060234 , 0.035006972052249376 )\n",
      "(a,b) = ( 0.035006972052249376 , 58.158878921372114 )\n",
      "(a,b) = ( 58.158878921372114 , 0.3453511995504188 )\n",
      "(a,b) = ( 0.3453511995504188 , -4.956236282273593 )\n",
      "(a,b) = ( -4.956236282273593 , -0.021209391295258204 )\n",
      "(a,b) = ( -0.021209391295258204 , 0.6740298315446954 )\n",
      "(a,b) = ( 0.6740298315446954 , 0.2523821318154071 )\n",
      "(a,b) = ( 0.2523821318154071 , 0.13094505724390695 )\n",
      "(a,b) = ( 0.13094505724390695 , 0.10933139199626062 )\n",
      "(a,b) = ( 0.10933139199626062 , 0.10146153130939682 )\n",
      "(a,b) = ( 0.10146153130939682 , 0.10009392312534648 )\n",
      "(a,b) = ( 0.10009392312534648 , 0.10000105609873301 )\n",
      "Method secant: implied vol =  0.10000000077724093\n"
     ]
    }
   ],
   "source": [
    "def secant(f, a, b, tol, maxIter):\n",
    "    nIter = 0\n",
    "    c = (a * f(b) - b * f(a)) / (f(b) - f(a))\n",
    "    while abs(a - b) > tol and nIter <= maxIter:\n",
    "        print(\"(a,b) = (\", a, \",\", b, \")\")\n",
    "        c = (a * f(b) - b * f(a)) / (f(b) - f(a))\n",
    "        if abs(f(c)) < tol:\n",
    "            return c\n",
    "        else:\n",
    "            a = b\n",
    "            b = c\n",
    "        nIter = nIter+1\n",
    "    return c\n",
    "\n",
    "def testSecant():\n",
    "    # bs price for 10% vol\n",
    "    price = bsPrice(S=100, r=0.02, vol=0.1, T=1.0, strike=90, payoffType=PayoffType.Call)\n",
    "    f = lambda vol: (bsPrice(100, 0.02, vol, 1.0, 90, PayoffType.Call) - price)\n",
    "    a, b = 0.0001, 0.5\n",
    "    iv = secant(f, a, b, 1e-6, 100)\n",
    "    print(\"Method secant: implied vol = \", iv)\n",
    "\n",
    "if __name__ == \"__main__\":\n",
    "    testSecant()"
   ]
  },
  {
   "cell_type": "code",
   "execution_count": 21,
   "id": "8bb71cca-9a7c-423d-b55f-98524bf803dd",
   "metadata": {},
   "outputs": [
    {
     "name": "stdout",
     "output_type": "stream",
     "text": [
      "(a,b) = ( 1e-05 , 100000 )\n",
      "(a,b) = ( 1e-05 , 534.0925137175982 )\n",
      "(a,b) = ( 1e-05 , 2.852558025558581 )\n",
      "(a,b) = ( 0.01822601045731416 , 2.852558025558581 )\n",
      "(a,b) = ( 0.0363256957786142 , 2.852558025558581 )\n",
      "(a,b) = ( 0.0543006147667981 , 2.852558025558581 )\n",
      "(a,b) = ( 0.07148384535014515 , 2.852558025558581 )\n",
      "(a,b) = ( 0.0852095129061159 , 2.852558025558581 )\n",
      "(a,b) = ( 0.09352470547454683 , 2.852558025558581 )\n",
      "(a,b) = ( 0.09745798615118095 , 2.852558025558581 )\n",
      "(a,b) = ( 0.09905360795358015 , 2.852558025558581 )\n",
      "(a,b) = ( 0.09965524307302485 , 2.852558025558581 )\n",
      "(a,b) = ( 0.0998754410972838 , 2.852558025558581 )\n",
      "(a,b) = ( 0.09995513331806408 , 2.852558025558581 )\n",
      "(a,b) = ( 0.09998385649656538 , 2.852558025558581 )\n",
      "(a,b) = ( 0.09999419368941155 , 2.852558025558581 )\n",
      "(a,b) = ( 0.09999791194920889 , 2.852558025558581 )\n",
      "(a,b) = ( 0.09999924913879148 , 2.852558025558581 )\n",
      "(a,b) = ( 0.09999972999593747 , 2.852558025558581 )\n",
      "(a,b) = ( 0.09999990290920421 , 2.852558025558581 )\n",
      "Method falsi: implied vol =  0.09999996508719075\n"
     ]
    }
   ],
   "source": [
    "def falsi(f, a, b, tol):\n",
    "    assert (a<b and f(a)*f(b)<0)\n",
    "    c = (a*f(b)-b*f(a))/(f(b)-f(a))\n",
    "    while abs(a - b) > tol:\n",
    "        print(\"(a,b) = (\", a, \",\", b, \")\")\n",
    "        c = (a*f(b)-b*f(a))/(f(b)-f(a))\n",
    "        if abs(f(c)) < tol:\n",
    "            return c\n",
    "        else:\n",
    "            if f(a)*f(c)<0:\n",
    "                b = c\n",
    "            else:\n",
    "                a = c\n",
    "    return c\n",
    "\n",
    "def testfalsi():\n",
    "    price = bsPrice(S=100, r=0.02, vol=0.1, T=1.0, strike=90, payoffType=PayoffType.Call)\n",
    "    f = lambda vol: (bsPrice(100, 0.02, vol, 1.0, 90, PayoffType.Call) - price)\n",
    "    a, b = 0.00001, 100000\n",
    "    iv = falsi(f, a, b, 1e-6)\n",
    "    print(\"Method falsi: implied vol = \", iv)\n",
    "    \n",
    "if __name__ == \"__main__\":\n",
    "    testfalsi()"
   ]
  },
  {
   "cell_type": "code",
   "execution_count": 22,
   "id": "d1895026-7da9-4ca2-9b93-2aca9d67766b",
   "metadata": {},
   "outputs": [
    {
     "name": "stdout",
     "output_type": "stream",
     "text": [
      "Method Brent: implied vol =  0.09999999999997611\n"
     ]
    }
   ],
   "source": [
    "def testBrent():\n",
    "    price = bsPrice(S=100, r=0.02, vol=0.1, T=1.0, strike=90, payoffType=PayoffType.Call)\n",
    "    f = lambda vol: (bsPrice(100, 0.02, vol, 1.0, 90, PayoffType.Call) - price)\n",
    "    a, b = 0.0001, 0.5\n",
    "    iv = optimize.brentq(f, a, b)\n",
    "    print(\"Method Brent: implied vol = \", iv)\n",
    "\n",
    "if __name__ == \"__main__\":\n",
    "    testBrent()"
   ]
  },
  {
   "cell_type": "code",
   "execution_count": null,
   "id": "165d674f-603d-4754-b5b1-d809d4eba93b",
   "metadata": {},
   "outputs": [],
   "source": []
  }
 ],
 "metadata": {
  "kernelspec": {
   "display_name": "Python 3 (ipykernel)",
   "language": "python",
   "name": "python3"
  },
  "language_info": {
   "codemirror_mode": {
    "name": "ipython",
    "version": 3
   },
   "file_extension": ".py",
   "mimetype": "text/x-python",
   "name": "python",
   "nbconvert_exporter": "python",
   "pygments_lexer": "ipython3",
   "version": "3.12.0"
  }
 },
 "nbformat": 4,
 "nbformat_minor": 5
}
