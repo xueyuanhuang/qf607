{
 "cells": [
  {
   "cell_type": "markdown",
   "metadata": {},
   "source": [
    "### Assignment 2\n",
    "\n",
    "#### Submit your assignment as .ipynb"
   ]
  },
  {
   "cell_type": "code",
   "execution_count": 1,
   "metadata": {
    "collapsed": false,
    "jupyter": {
     "outputs_hidden": false
    },
    "pycharm": {
     "name": "#%% \n"
    }
   },
   "outputs": [],
   "source": [
    "import math\n",
    "from enum import Enum\n",
    "from scipy.interpolate import CubicSpline\n",
    "import numpy as np\n",
    "import matplotlib.pyplot as plt\n",
    "import bisect"
   ]
  },
  {
   "cell_type": "code",
   "execution_count": 2,
   "metadata": {},
   "outputs": [],
   "source": [
    "from binomial import *\n",
    "from scipy.optimize import brentq"
   ]
  },
  {
   "cell_type": "markdown",
   "metadata": {
    "collapsed": false,
    "jupyter": {
     "outputs_hidden": false
    }
   },
   "source": [
    "#### Exercise 1.\n",
    "\n",
    "Implement a trinomial tree that takes the below signature:"
   ]
  },
  {
   "cell_type": "code",
   "execution_count": 3,
   "metadata": {},
   "outputs": [],
   "source": [
    "def trinomialPricer(S, r, q, vol, trade, n, lmda): \n",
    "    t = trade.expiry / n\n",
    "    u = math.exp(lmda * vol * math.sqrt(t))\n",
    "    mu = r-q\n",
    "    stdev = vol*math.sqrt(t)\n",
    "    pu = 1 / 2 / lmda / lmda + (mu - vol * vol / 2) / 2 / lmda / vol * math.sqrt(t)\n",
    "    pd = 1 / 2 / lmda / lmda - (mu - vol * vol / 2) / 2 / lmda / vol * math.sqrt(t)\n",
    "    pm = 1 - pu - pd\n",
    "    \n",
    "    vs = [trade.payoff(S * u ** (n - i)) for i in range(2*n + 1)]\n",
    "    ##\n",
    "    for i in range(n - 1, -1, -1):\n",
    "        # calculate the value of each node at time slide i, there are i nodes\n",
    "        for j in range(2*i + 1):\n",
    "            nodeS = S * u ** (i - j)\n",
    "            continuation = math.exp(-r * t) * (vs[j] * pu +  + vs[j+1] * pm + vs[j+2] * pd)\n",
    "            vs[j] = trade.valueAtNode(t * i, nodeS, continuation)\n",
    "    return vs[0]"
   ]
  },
  {
   "cell_type": "code",
   "execution_count": 4,
   "metadata": {},
   "outputs": [],
   "source": [
    "def trinomialPricerAnchor(S, r, q, vol, trade, n, K): \n",
    "    t = trade.expiry / n\n",
    "    lmda = math.sqrt(3)\n",
    "    u = math.exp(lmda * vol * math.sqrt(t))\n",
    "    mu = r - q\n",
    "    \n",
    "    # A list containing the stock prices at the final time step (n)\n",
    "    vs_1 = [(S * u ** (n - i)) for i in range(2*n + 1)] \n",
    "    # A list containing the absolute differences between each stock price in vs_1 and the strike price (K).\n",
    "    vs_k = [abs(i - K) for i in vs_1]\n",
    "    closest_node = vs_k.index(min(vs_k))\n",
    "\n",
    "    if closest_node != n:\n",
    "        #lmda = range(1,2)\n",
    "        lmda = (math.log(K/S))/(n-closest_node) / vol / math.sqrt(t)\n",
    "        #lmda = (math.log(K/S))/(n-closest_node) / math.sqrt(t)\n",
    "    \n",
    "    elif closest_node == n:\n",
    "        lmda = math.sqrt(3)\n",
    "    \n",
    "    # Recalculate\n",
    "    u = math.exp(lmda * vol * math.sqrt(t))\n",
    "    pu = 1 / 2 / lmda / lmda + (mu - vol * vol / 2) / 2 / lmda / vol * math.sqrt(t)\n",
    "    pd = 1 / 2 / lmda / lmda - (mu - vol * vol / 2) / 2 / lmda / vol * math.sqrt(t)\n",
    "    pm = 1 - pu - pd\n",
    "    vs_1 = [(S * u ** (n - i)) for i in range(2*n + 1)]\n",
    "    #vs_k = [abs(i - K) for i in vs_1]\n",
    "    #closest_node = vs_k.index(min(vs_k))\n",
    "    #print(f'Updated closest node is {closest_node} at {vs_1[closest_node]} when lambda = {lmda}')\n",
    "    vs_1 = [trade.payoff(S * u ** (n - i)) for i in range(2*n + 1)]\n",
    "    ##\n",
    "    for i in range(n - 1, -1, -1):\n",
    "        # calculate the value of each node at time slide i, there are i nodes\n",
    "        for j in range(2*i + 1):\n",
    "            nodeS = S * u ** (i - j)\n",
    "            continuation = math.exp(-r * t) * (vs_1[j] * pu +  + vs_1[j+1] * pm + vs_1[j+2] * pd)\n",
    "            vs_1[j] = trade.valueAtNode(t * i, nodeS, continuation)\n",
    "    return vs_1[0]"
   ]
  },
  {
   "cell_type": "markdown",
   "metadata": {
    "collapsed": false,
    "jupyter": {
     "outputs_hidden": false
    },
    "pycharm": {
     "name": "#%% md\n"
    }
   },
   "source": [
    "Instead of taking the parameter $\\lambda$ in our example code, this function takes a discontinuity K and anchors a tree node to K by tuning $\\lambda$ inside the pricer.\n",
    "Note that there are many ways to adjust $\\lambda$, one example is to construct the tree with $\\lambda = \\sqrt{3}$ first, find the node closest to $K$, then adjust $\\lambda$ such that the node falls on $K$, but you are free to define your own way to achieve this.\n",
    "\n",
    "Plot the pricing errors of this trinomial tree pricer with the market and strike below, for number of tree steps from 10 to 300 (similar to our binomial tree test cases).\n",
    "Use a European Call option and a Binary Call option as test trades."
   ]
  },
  {
   "cell_type": "code",
   "execution_count": 5,
   "metadata": {
    "collapsed": false,
    "jupyter": {
     "outputs_hidden": false
    },
    "pycharm": {
     "name": "#%%\n"
    }
   },
   "outputs": [],
   "source": [
    "K = 105\n",
    "S, r, vol = 100, 0.01, 0.2\n",
    "T = 1"
   ]
  },
  {
   "cell_type": "code",
   "execution_count": 6,
   "metadata": {},
   "outputs": [
    {
     "data": {
      "image/png": "[encoded data removed]",
      "text/plain": [
       "<Figure size 640x480 with 1 Axes>"
      ]
     },
     "metadata": {},
     "output_type": "display_data"
    }
   ],
   "source": [
    "bsCall = bsPrice(S, r, vol, T, K, PayoffType.Call)\n",
    "triErrs = [math.log(abs(trinomialPricer(S, r, 0, vol, EuropeanOption(T, K, PayoffType.Call), i , math.sqrt(3)) - bsCall)) for i in range(10, 301)]\n",
    "triErrs1 = [math.log(abs(trinomialPricerAnchor(S, r, 0, vol, EuropeanOption(T, K, PayoffType.Call), i , K) - bsCall)) for i in range(10, 301)]\n",
    "\n",
    "plt.plot(range(10,301), triErrs1, label='Anchored')\n",
    "plt.plot(range(10,301), triErrs, label='Original')\n",
    "plt.legend()\n",
    "plt.show()"
   ]
  },
  {
   "cell_type": "code",
   "execution_count": null,
   "metadata": {},
   "outputs": [],
   "source": [
    "bsBinaryCall = bsPrice(S, r, vol, T, K, PayoffType.BinaryCall)\n",
    "triErrs = [math.log(abs(trinomialPricer(S, r, 0, vol, EuropeanOption(T, K, PayoffType.BinaryCall), i , math.sqrt(3)) - bsBinaryCall)) for i in range(10, 301)]\n",
    "triErrs1 = [math.log(abs(trinomialPricerAnchor(S, r, 0, vol, EuropeanOption(T, K, PayoffType.BinaryCall), i , K) - bsBinaryCall)) for i in range(10, 301)]\n",
    "\n",
    "plt.plot(range(10,301), triErrs1, label='Anchored')\n",
    "plt.plot(range(10,301), triErrs, label='Original')\n",
    "plt.legend()\n",
    "plt.show()"
   ]
  },
  {
   "cell_type": "markdown",
   "metadata": {
    "collapsed": false,
    "jupyter": {
     "outputs_hidden": false
    }
   },
   "source": [
    "#### Exercise 2.\n",
    "\n",
    "Assuming forward delta convention, implement below function ```strikeFromdelta``` that calculates the strike from a given delta.\n",
    "You may use the ```fwdDelta``` function below. Test with below:\n",
    "\n",
    "S, r, q, T, vol, delta, payoffType = 100, 0.1, 0, 1, 0.1, 0.25, PayoffType.Put"
   ]
  },
  {
   "cell_type": "code",
   "execution_count": null,
   "metadata": {
    "pycharm": {
     "is_executing": false,
     "name": "#%%\n"
    }
   },
   "outputs": [],
   "source": [
    "class PayoffType(Enum):\n",
    "    Call = 0\n",
    "    Put = 1\n",
    "def cnorm(x):\n",
    "    return (1.0 + math.erf(x / math.sqrt(2.0))) / 2.0\n",
    "\n",
    "def fwdDelta(fwd, stdev, strike, payoffType):\n",
    "    d1 = math.log(fwd / strike) / stdev + stdev / 2\n",
    "    if payoffType == PayoffType.Call:\n",
    "        return cnorm(d1)\n",
    "    elif payoffType == PayoffType.Put:\n",
    "        return -cnorm(-d1)\n",
    "    else:\n",
    "        raise Exception(\"not supported payoff type\", payoffType)\n",
    "\n",
    "# solve for the K such that Delta(S, T, K, vol) = delta, assuming forward delta convention\n",
    "def strikeFromDelta(S, r, q, T, vol, delta, payoffType):\n",
    "    F = S * np.exp((r-q)*T)\n",
    "    strike = brentq(lambda x:fwdDelta(F, vol, x, payoffType)-delta, 0.05, 150)\n",
    "    \n",
    "    return strike"
   ]
  },
  {
   "cell_type": "code",
   "execution_count": null,
   "metadata": {},
   "outputs": [],
   "source": [
    "S, r, q, T, vol, delta, payoffType = 100, 0.1, 0, 1, 0.1, -0.25, PayoffType.Put\n",
    "strikeFromDelta(S, r, q, T, vol, delta, payoffType)"
   ]
  },
  {
   "cell_type": "markdown",
   "metadata": {
    "collapsed": false,
    "jupyter": {
     "outputs_hidden": false
    },
    "pycharm": {
     "name": "#%% md\n"
    }
   },
   "source": [
    "#### Exercise 3.\n",
    "\n",
    "Implement ```smilefromMarks``` function below, it take the time to maturity $T$, current stop price $S$, risk free and dividend rate $r$ and $q$,\n",
    "ATM volatility, BF25, RR25, BF10, RR10 quotes, returns a CubicSpline interpolated smile for this pillar. We assume ATM forward convention. \n",
    "You may use the Smile class provided below.   "
   ]
  },
  {
   "cell_type": "code",
   "execution_count": null,
   "metadata": {
    "pycharm": {
     "name": "#%%\n"
    }
   },
   "outputs": [],
   "source": [
    "class Smile:\n",
    "    def __init__(self, strikes, vols):\n",
    "        # add additional point on the right to avoid arbitrage\n",
    "        self.strikes = strikes  + [1.1*strikes[-1] - 0.1*strikes[-2]]\n",
    "        self.vols = vols + [vols[-1] + (vols[-1]-vols[-2])/10]\n",
    "        self.cs = CubicSpline(strikes, vols, bc_type=((1, 0.0), (1, 0.0)), extrapolate=True)\n",
    "    def Vol(self, k):\n",
    "        if k < self.strikes[0]:  # scipy cubicspline bc_type confusing, extrapolate by ourselfs\n",
    "            return self.vols[0]\n",
    "        if k > self.strikes[-1]:\n",
    "            return self.vols[-1]\n",
    "        else:\n",
    "            return self.cs(k)\n",
    "\n",
    "def smileFromMarks(T, S, r, q, atmvol, bf25, rr25, bf10, rr10):\n",
    "\n",
    "    vol_P_25 = bf25 + atmvol - 0.5 * rr25\n",
    "    vol_P_10 = bf10 + atmvol - 0.5 * rr10\n",
    "    vol_C_25 = 0.5 * rr25 + bf25 + atmvol\n",
    "    vol_C_10 = 0.5 * rr10 + bf10 + atmvol\n",
    "\n",
    "    K_Call_25 = strikeFromDelta(S, r, q, T, vol_C_25, 0.25, PayoffType.Call)\n",
    "    K_Put_25 = strikeFromDelta(S, r, q, T, vol_P_25, -0.25, PayoffType.Put)\n",
    "    K_Call_10 = strikeFromDelta(S, r, q, T, vol_C_10, 0.1, PayoffType.Call)\n",
    "    K_Put_10 = strikeFromDelta(S, r, q, T, vol_P_10, -0.1, PayoffType.Put)\n",
    "    K_atm = S * math.exp((r-q)*T)\n",
    "\n",
    "    strikes = [K_Put_10, K_Put_25, K_atm, K_Call_25, K_Call_10]\n",
    "    vols = [vol_P_10, vol_P_25, atmvol, vol_C_25, vol_C_10]\n",
    "\n",
    "    return Smile(strikes, vols)"
   ]
  },
  {
   "cell_type": "markdown",
   "metadata": {
    "collapsed": false,
    "jupyter": {
     "outputs_hidden": false
    },
    "pycharm": {
     "name": "#%% md\n"
    }
   },
   "source": [
    "With ```smileFromMarks```, we can prepare our implied volatility surface from input marks."
   ]
  },
  {
   "cell_type": "code",
   "execution_count": null,
   "metadata": {
    "collapsed": false,
    "jupyter": {
     "outputs_hidden": false
    },
    "pycharm": {
     "name": "#%%\n"
    }
   },
   "outputs": [],
   "source": [
    "class ImpliedVol:\n",
    "    def __init__(self, ts, smiles):\n",
    "        self.ts = ts\n",
    "        self.smiles = smiles\n",
    "    # linear interpolation in variance, along the strike line\n",
    "    def Vol(self, t, k):\n",
    "        # locate the interval t is in\n",
    "        pos = bisect.bisect_left(self.ts, t)\n",
    "        # if t is on or in front of first pillar,\n",
    "        if pos == 0:\n",
    "            return self.smiles[0].Vol(k)\n",
    "        if pos >= len(self.ts):\n",
    "            return self.smiles[-1].Vol(k)\n",
    "        else:  # in between two brackets\n",
    "            prevVol, prevT = self.smiles[pos-1].Vol(k), self.ts[pos-1]\n",
    "            nextVol, nextT = self.smiles[pos].Vol(k), self.ts[pos]\n",
    "            w = (nextT - t) / (nextT - prevT)\n",
    "            prevVar = prevVol * prevVol * prevT\n",
    "            nextVar = nextVol * nextVol * nextT\n",
    "            return  math.sqrt((w * prevVar + (1-w) * nextVar)/t)\n",
    "        return\n",
    "    def dVoldK(self, t, k):\n",
    "        return (self.Vol(t, k+0.01) - self.Vol(t, k-0.01)) / 0.02\n",
    "    def dVoldT(self, t, k):\n",
    "        return (self.Vol(t+0.005, k) - self.Vol(t, k)) / 0.005\n",
    "    def dVol2dK2(self, t, k):\n",
    "        return (self.Vol(t, k+0.01) + self.Vol(t, k-0.01) - 2*self.Vol(t, k)) / 0.0001"
   ]
  },
  {
   "cell_type": "markdown",
   "metadata": {
    "collapsed": false,
    "jupyter": {
     "outputs_hidden": false
    },
    "pycharm": {
     "name": "#%% md\n"
    }
   },
   "source": [
    "Plot the test implied volatility surface using below test functions."
   ]
  },
  {
   "cell_type": "code",
   "execution_count": null,
   "metadata": {
    "collapsed": false,
    "jupyter": {
     "outputs_hidden": false
    },
    "pycharm": {
     "name": "#%%\n"
    }
   },
   "outputs": [],
   "source": [
    "def createTestImpliedVol(S, r, q):\n",
    "    pillars = [0.02, 0.04, 0.06, 0.08, 0.16, 0.25, 0.75, 1.0, 1.5, 2, 3, 5] # in year\n",
    "    atmvols = [0.155, 0.1395, 0.1304, 0.1280, 0.1230, 0.1230, 0.1265, 0.1290, 0.1313, 0.1318, 0.1313, 0.1305, 0.1295]\n",
    "    bf25s = [0.0016, 0.0016, 0.0021, 0.0028, 0.0034, 0.0043, 0.0055, 0.0058, 0.0060, 0.0055, 0.0054, 0.0050, 0.0045, 0.0043]\n",
    "    rr25s = [-0.0065, -0.0110, -0.0143, -0.0180, -0.0238, -0.0288, -0.0331, -0.0344, -0.0349, -0.0340, -0.0335, -0.0330, -0.0330]\n",
    "    bf10s = [0.0050, 0.0050, 0.0067, 0.0088, 0.0111, 0.0144, 0.0190, 0.0201, 0.0204, 0.0190, 0.0186, 0.0172, 0.0155, 0.0148]\n",
    "    rr10s = [-0.0111, -0.0187, -0.0248, -0.0315, -0.0439, -0.0518, -0.0627, -0.0652, -0.0662, -0.0646, -0.0636, -0.0627, -0.0627]\n",
    "    smiles = [smileFromMarks(pillars[i], S, r, q, atmvols[i], bf25s[i], rr25s[i], bf10s[i], rr10s[i]) for i in range(len(pillars))]\n",
    "    return ImpliedVol(pillars, smiles)\n",
    "\n",
    "def plotTestImpliedVolSurface():\n",
    "    S, r, q = 1.25805, 0.01, 0.003\n",
    "    iv = createTestImpliedVol(S, r, q)\n",
    "    tStart, tEnd = 0.02, 0.5\n",
    "    ts = np.arange(tStart, tEnd, 0.1)\n",
    "    fwdEnd = S*math.exp((r-q)*tEnd)\n",
    "    kmin = strikeFromDelta(S, r, q, tEnd, iv.Vol(tEnd, fwdEnd), -0.05, PayoffType.Put)\n",
    "    kmax = strikeFromDelta(S, r, q, tEnd, iv.Vol(tEnd, fwdEnd), 0.05, PayoffType.Call)\n",
    "    ks = np.arange(kmin, kmax, 0.01)\n",
    "\n",
    "    vs = np.ndarray((len(ts), len(ks)))\n",
    "    for i in range(len(ts)):\n",
    "        for j in range(len(ks)):\n",
    "            vs[i, j] = iv.Vol(ts[i], ks[j])\n",
    "    hf = plt.figure()\n",
    "    ha = hf.add_subplot(111, projection='3d')\n",
    "    X, Y = np.meshgrid(ks, ts)\n",
    "    ha.plot_surface(X, Y, vs)\n",
    "    plt.show()\n",
    "plotTestImpliedVolSurface()"
   ]
  },
  {
   "cell_type": "markdown",
   "metadata": {
    "collapsed": false,
    "jupyter": {
     "outputs_hidden": false
    },
    "pycharm": {
     "name": "#%% md\n"
    }
   },
   "source": []
  }
 ],
 "metadata": {
  "kernelspec": {
   "display_name": "Python 3 (ipykernel)",
   "language": "python",
   "name": "python3"
  },
  "language_info": {
   "codemirror_mode": {
    "name": "ipython",
    "version": 3
   },
   "file_extension": ".py",
   "mimetype": "text/x-python",
   "name": "python",
   "nbconvert_exporter": "python",
   "pygments_lexer": "ipython3",
   "version": "3.12.0"
  },
  "pycharm": {
   "stem_cell": {
    "cell_type": "raw",
    "metadata": {
     "collapsed": false
    },
    "source": []
   }
  }
 },
 "nbformat": 4,
 "nbformat_minor": 4
}
