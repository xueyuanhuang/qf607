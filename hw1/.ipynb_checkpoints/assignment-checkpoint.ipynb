{
 "cells": [
  {
   "cell_type": "markdown",
   "metadata": {
    "pycharm": {
     "name": "#%% md\n"
    }
   },
   "source": [
    "### Assignment 1\n",
    "\n",
    "Submission should be in a Jupyter note book (.ipynb)"
   ]
  },
  {
   "cell_type": "markdown",
   "metadata": {
    "pycharm": {
     "name": "#%% md\n"
    }
   },
   "source": [
    "1. Implement a function that converts a ```fixed<w, b>``` representation to a real number. Use two's compement representation for negative numbers. The function signature is\n",
    "\n",
    "   ```python\n",
    "   def fromFixedPoint(w: int, b:int, bits:[int]) -> float:\n",
    "   # w: width of the binary representation\n",
    "   # b: binary point\n",
    "   ```\n",
    "   Test the following inputs\n",
    "   ```python\n",
    "   fromFixedPoint(10, 3, [0, 1, 0, 1, 1, 0, 0, 1, 1, 0])\n",
    "   ```\n",
    "   ```python\n",
    "   fromFixedPoint(10, 5, [1, 0, 0, 1, 0, 1, 0, 1, 1, 1])\n",
    "   ```\n",
    "   ```python\n",
    "   fromFixedPoint(8, 2, [1, 0, 1, 0, 1, 0, 1, 1])\n",
    "   ```\n",
    "   \n"
   ]
  },
  {
   "cell_type": "code",
   "execution_count": 3,
   "metadata": {},
   "outputs": [],
   "source": [
    "def fromFixedPoint(w : int, b : int, bits:[int]) -> float:\n",
    "    x = -bits[0]*2**(w-1-b)\n",
    "\n",
    "    n = -1\n",
    "    for i in range(w-b, w):\n",
    "        x += bits[i]*2**n\n",
    "        n -= 1\n",
    "\n",
    "    n = 0\n",
    "    for i in range(w-b-1, 0, -1):\n",
    "        x += bits[i]*2**n\n",
    "        n += 1\n",
    "    return x"
   ]
  },
  {
   "cell_type": "code",
   "execution_count": 4,
   "metadata": {},
   "outputs": [
    {
     "data": {
      "text/plain": [
       "44.75"
      ]
     },
     "execution_count": 4,
     "metadata": {},
     "output_type": "execute_result"
    }
   ],
   "source": [
    "fromFixedPoint(10, 3, [0, 1, 0, 1, 1, 0, 0, 1, 1, 0])"
   ]
  },
  {
   "cell_type": "code",
   "execution_count": 5,
   "metadata": {},
   "outputs": [
    {
     "data": {
      "text/plain": [
       "-13.28125"
      ]
     },
     "execution_count": 5,
     "metadata": {},
     "output_type": "execute_result"
    }
   ],
   "source": [
    "fromFixedPoint(10, 5, [1, 0, 0, 1, 0, 1, 0, 1, 1, 1])"
   ]
  },
  {
   "cell_type": "code",
   "execution_count": 6,
   "metadata": {},
   "outputs": [
    {
     "data": {
      "text/plain": [
       "-21.25"
      ]
     },
     "execution_count": 6,
     "metadata": {},
     "output_type": "execute_result"
    }
   ],
   "source": [
    "fromFixedPoint(8, 2, [1, 0, 1, 0, 1, 0, 1, 1])"
   ]
  },
  {
   "cell_type": "markdown",
   "metadata": {
    "pycharm": {
     "name": "#%% md\n"
    }
   },
   "source": [
    "2. Manually calculate the prices of the following options step by step using two-step Cox Rox Rubinstein (CRR) Binomial tree\n",
    "\n",
    "    a. European call option with $S = 100$, $K = 105$, $r = 3\\%$, $T=1$, $\\sigma = 20\\%$\n",
    "    \n",
    "    b. European put option with $S = 100$, $K = 105$, $r = 3\\%$, $T=1$, $\\sigma = 20\\%$\n",
    "    \n",
    "    c. European call option with $S = 100$, $K = 105$, $r = 3\\%$, $T=1$, $\\sigma = 10\\%$\n",
    "    \n",
    "    d. European put option with $S = 100$, $K = 105$, $r = 3\\%$, $T=1$, $\\sigma = 10\\%$\n",
    "    \n",
    "    What is the value of the portfolio that is long (a) and short (b)? How about the portfolio that long (c) and short (d)?\n",
    "    "
   ]
  },
  {
   "cell_type": "markdown",
   "metadata": {},
   "source": [
    "**a. European call option with $S = 100$, $K = 105$, $r = 3\\%$, $T=1$, $\\sigma = 20\\%$**  \n",
    "we can calculate:  \n",
    "$t = \\frac{T}{n} = 0.5$  \n",
    "$b = e^{rt + \\sigma^2t + e^{-rt}} = 2.020731648402686$  \n",
    "$u = \\frac{b+\\sqrt{b^2-4}}{2} = 1.1547233619818793$  \n",
    "$p = \\frac{e^{rt}-\\frac{1}{u}}{u-\\frac{1}{u}} = 0.5164426481892243$  \n",
    "$C_{2,2} = max(Su^2 - K, 0) = 28.338604270673443$  \n",
    "$C_{2,1} = max(S - K, 0) = 0$  \n",
    "$C_{2,0} = max(Su^{-2} - K, 0) = 0$   \n",
    "$C_{1,1} = (pC_{2,2} + (1-p)C_{2,1})e^{-rt} = 14.417373143624523$  \n",
    "$C_{1,0} = (pC_{2,1} + (1-p)C_{2,0})e^{-rt} = 0$  \n",
    "$C_{0} = (pC_{1,1} + (1-p)C_{1,0})e^{-rt} = 7.334893644625005$  "
   ]
  },
  {
   "cell_type": "markdown",
   "metadata": {},
   "source": [
    "**b. European put option with $S = 100$, $K = 105$, $r = 3\\%$, $T=1$, $\\sigma = 20\\%$**  \n",
    "we can calculate:  \n",
    "$t = \\frac{T}{n} = 0.5$  \n",
    "$b = e^{rt + \\sigma^2t + e^{-rt}} = 2.020731648402686$  \n",
    "$u = \\frac{b+\\sqrt{b^2-4}}{2} = 1.1547233619818793$  \n",
    "$p = \\frac{e^{rt}-\\frac{1}{u}}{u-\\frac{1}{u}} = 0.5164426481892243$  \n",
    "$P_{2,2} = max(Su^2 - K, 0) = 0$  \n",
    "$P_{2,1} = max(S - K, 0) = 5$  \n",
    "$P_{2,0} = max(Su^{-2} - K, 0) = 30.002964785049826$   \n",
    "$P_{1,1} = (pP_{2,2} + (1-p)P_{2,1})e^{-rt} = 2.3817906037581693$  \n",
    "$P_{1,0} = (pP_{2,1} + (1-p)P_{2,0})e^{-rt} = 16.835925016240928$  \n",
    "$P_{0} = (pP_{1,1} + (1-p)P_{1,0})e^{-rt} = 9.231674667218368$  "
   ]
  },
  {
   "cell_type": "markdown",
   "metadata": {},
   "source": [
    "**c. European call option with $S = 100$, $K = 105$, $r = 3\\%$, $T=1$, $\\sigma = 10\\%$**  \n",
    "we can calculate:  \n",
    "$t = \\frac{T}{n} = 0.5$  \n",
    "$b = e^{rt + \\sigma^2t + e^{-rt}} = 2.020731648402686$  \n",
    "$u = \\frac{b+\\sqrt{b^2-4}}{2} = 1.1547233619818793$  \n",
    "$p = \\frac{e^{rt}-\\frac{1}{u}}{u-\\frac{1}{u}} = 0.5164426481892243$  \n",
    "$C_{2,2} = max(Su^2 - K, 0) = 10.690951426310448$  \n",
    "$C_{2,1} = max(S - K, 0) = 0$  \n",
    "$C_{2,0} = max(Su^{-2} - K, 0) = 0$   \n",
    "$C_{1,1} = (pC_{2,2} + (1-p)C_{2,1})e^{-rt} = 6.1651736731937845$  \n",
    "$C_{1,0} = (pC_{2,1} + (1-p)C_{2,0})e^{-rt} = 0$  \n",
    "$C_{0} = (pC_{1,1} + (1-p)C_{1,0})e^{-rt} = 3.555283800757024$  "
   ]
  },
  {
   "cell_type": "markdown",
   "metadata": {},
   "source": [
    "**d. European put option with $S = 100$, $K = 105$, $r = 3\\%$, $T=1$, $\\sigma = 10\\%$**  \n",
    "we can calculate:  \n",
    "$t = \\frac{T}{n} = 0.5$  \n",
    "$b = e^{rt + \\sigma^2t + e^{-rt}} = 2.020731648402686$  \n",
    "$u = \\frac{b+\\sqrt{b^2-4}}{2} = 1.1547233619818793$  \n",
    "$p = \\frac{e^{rt}-\\frac{1}{u}}{u-\\frac{1}{u}} = 0.5164426481892243$  \n",
    "$P_{2,2} = max(Su^2 - K, 0) = 0$  \n",
    "$P_{2,1} = max(S - K, 0) = 5$  \n",
    "$P_{2,0} = max(Su^{-2} - K, 0) = 18.562816480340572$   \n",
    "$P_{1,1} = (pP_{2,2} + (1-p)P_{2,1})e^{-rt} = 2.0421990749274177$  \n",
    "$P_{1,0} = (pP_{2,1} + (1-p)P_{2,0})e^{-rt} = 10.465153951927684$  \n",
    "$P_{0} = (pP_{1,1} + (1-p)P_{1,0})e^{-rt} = 5.452064823350394$  "
   ]
  },
  {
   "cell_type": "markdown",
   "metadata": {
    "pycharm": {
     "name": "#%% md\n"
    }
   },
   "source": [
    "3. Greeks measure the sensitivity of the price of derivatives to a change in underlying asset’s parameters. They are used for hedging and risk\n",
    "management. The commonly used greeks (risk sensitivities) are:\n",
    "    * Delta $\\Delta = \\frac{\\partial V}{\\partial S}$: measures the rate of change of the option value with respect to changes in the underlying asset's price.\n",
    "    * Gamma $\\Gamma = \\frac{\\partial^2 V}{\\partial S^2} = \\frac{\\partial \\Delta}{\\partial S}$: measures the rate of change of delta with respect to changes in the underlying asset's price.\n",
    "    * Vega: $v = \\frac{\\partial V}{\\partial \\sigma}$: measures the rate of change of the option value with respect to changes in the underlying asset's volatility.\n",
    "    * Theta: $\\theta = \\frac{\\partial V}{\\partial t}$: the rate of change in the price of an option with respect to pricing time. Note that we normally use $t$ to represent pricing time, $T$ to represent expiry time, time to expiry in our pricer is $T-t$. In the implementation of the pricers that take time to expiry as an argument, we implicitly set pricing time to 0 (present).\n",
    "    * Rho: the rate of change in the price of an option in response to a change in the interest rate.\n",
    "\n",
    "  The greeks are normally not known in closed form since numerical pricers are used. They are approximated by finite differences:\n",
    "\n",
    "  \\begin{align}\n",
    "    & \\Delta = \\frac{\\partial V}{\\partial S} \\approx \\frac{V(S + \\Delta S) - V(S-\\Delta S)}{2 \\Delta S}, ~~~\\Delta S = 0.1\\% S \\\\\n",
    "    & \\Gamma = \\frac{\\partial V^2}{\\partial S^2} \\approx \\frac{V(S + \\Delta S) - 2V(S) + V(S-\\Delta S)}{\\Delta S^2} \\\\\n",
    "    & v = \\frac{\\partial V}{\\partial \\sigma} \\approx \\frac{V(S, \\sigma +\\Delta \\sigma) - V(S, \\sigma -\\Delta \\sigma)}{2 \\Delta \\sigma } ~~~~~~~\\Delta \\sigma = 0.1\\% \\\\\n",
    "    & \\theta = \\frac{\\partial V}{\\partial t} \\approx \\frac{V(S, t+\\Delta t, T) - V(S, t, T)}{\\Delta t} ~~~~\\Delta t = 0.004 \\\\\n",
    "    & \\rho = \\frac{\\partial V}{\\partial r} \\approx \\frac{V(S, r+\\Delta r) - V(S, r - \\Delta r)}{2 \\Delta r}  ~~~~~\\Delta r = 0.0001\n",
    "  \\end{align}\n",
    "\n",
    "  Implement a Greeks calculater for binomial tree pricer provided below. The signature of the greeks calculator is\n",
    "      ```python\n",
    "      def binomialGreeks(S, r, vol, T, strike, greekType) -> float\n",
    "      ```\n",
    "  Setting $S = 100, r = 0.03, vol = 0.2$, plot each greeks as a function of strike for 1 year European call option with strike from 50 to 150. Play with different binomial models and see if there is any difference.\n",
    "  \n",
    "  Note that in practice, the greeks are rescaled with a pre-defined scaler, so that they give a sense of how much PV (Delta) changes with a typical move of the market. The rescaling is not incorporated in this exercise."
   ]
  },
  {
   "cell_type": "code",
   "execution_count": 7,
   "metadata": {
    "pycharm": {
     "name": "#%%\n"
    }
   },
   "outputs": [],
   "source": [
    "# binomial pricer for exercise 3\n",
    "class EuropeanOption():\n",
    "    def __init__(self, expiry, strike, payoffType):\n",
    "        self.expiry = expiry\n",
    "        self.strike = strike\n",
    "        self.payoffType = payoffType\n",
    "    def payoff(self, S):\n",
    "        if self.payoffType == PayoffType.Call:\n",
    "            return max(S - self.strike, 0)\n",
    "        elif self.payoffType == PayoffType.Put:\n",
    "            return max(self.strike - S, 0)\n",
    "        else:\n",
    "            raise Exception(\"payoffType not supported: \", self.payoffType)\n",
    "    def valueAtNode(self, t, S, continuation):\n",
    "        return continuation\n",
    "\n",
    "class AmericanOption():\n",
    "    def __init__(self, expiry, strike, payoffType):\n",
    "        self.expiry = expiry\n",
    "        self.strike = strike\n",
    "        self.payoffType = payoffType\n",
    "    def payoff(self, S):\n",
    "        if self.payoffType == PayoffType.Call:\n",
    "            return max(S - self.strike, 0)\n",
    "        elif self.payoffType == PayoffType.Put:\n",
    "            return max(self.strike - S, 0)\n",
    "        else:\n",
    "            raise Exception(\"payoffType not supported: \", self.payoffType)\n",
    "    def valueAtNode(self, t, S, continuation):\n",
    "        return max(self.payoff(S), continuation)\n",
    "\n",
    "def crrCalib(r, vol, t):\n",
    "    b = math.exp(vol * vol * t + r * t) + math.exp(-r * t)\n",
    "    u = (b + math.sqrt(b * b - 4)) / 2\n",
    "    p = (math.exp(r * t) - (1 / u)) / (u - 1 / u)\n",
    "    return (u, 1/u, p)\n",
    "\n",
    "def jrrnCalib(r, vol, t):\n",
    "    u = math.exp((r - vol * vol / 2) * t + vol * math.sqrt(t))\n",
    "    d = math.exp((r - vol * vol / 2) * t - vol * math.sqrt(t))\n",
    "    p = (math.exp(r * t) - d) / (u - d)\n",
    "    return (u, d, p)\n",
    "\n",
    "def jreqCalib(r, vol, t):\n",
    "    u = math.exp((r - vol * vol / 2) * t + vol * math.sqrt(t))\n",
    "    d = math.exp((r - vol * vol / 2) * t - vol * math.sqrt(t))\n",
    "    return (u, d, 1/2)\n",
    "\n",
    "def tianCalib(r, vol, t):\n",
    "    v = math.exp(vol * vol * t)\n",
    "    u = 0.5 * math.exp(r * t) * v * (v + 1 + math.sqrt(v*v + 2*v - 3))\n",
    "    d = 0.5 * math.exp(r * t) * v * (v + 1 - math.sqrt(v*v + 2*v - 3))\n",
    "    p = (math.exp(r * t) - d) / (u - d)\n",
    "    return (u, d, p)\n",
    "\n",
    "def binomialPricer(S, r, vol, trade, n, calib):\n",
    "    t = trade.expiry / n\n",
    "    (u, d, p) = calib(r, vol, t)\n",
    "    # set up the last time slice, there are n+1 nodes at the last time slice\n",
    "    vs = [trade.payoff(S * u ** (n - i) * d ** i) for i in range(n + 1)]\n",
    "    # iterate backward\n",
    "    for i in range(n - 1, -1, -1):\n",
    "        # calculate the value of each node at time slide i, there are i nodes\n",
    "        for j in range(i + 1):\n",
    "            nodeS = S * u ** (i - j) * d ** j\n",
    "            continuation = math.exp(-r * t) * (vs[j] * p + vs[j + 1] * (1 - p))\n",
    "            vs[j] = trade.valueAtNode(t * i, nodeS, continuation)\n",
    "    return vs[0]"
   ]
  },
  {
   "cell_type": "code",
   "execution_count": 22,
   "metadata": {},
   "outputs": [],
   "source": [
    "from enum import Enum\n",
    "import math\n",
    "class PayoffType(str, Enum):\n",
    "    Call = 'Call'\n",
    "    Put = 'Put'\n",
    "\n",
    "class GreekType(str, Enum):\n",
    "    Delta = 'Delta'\n",
    "    Gamma = 'Gamma'\n",
    "    Vega = 'Vega'\n",
    "    Theta = 'Theta'\n",
    "    Rho = 'Rho'\n",
    "\n",
    "class Calib(str, Enum):\n",
    "    CrrCalib = 'CrrCalib'\n",
    "    JrrnCalib =  'JrrnCalib'\n",
    "    JreqCalib = 'JreqCalib'\n",
    "    TianCalib = 'TianCalib'"
   ]
  },
  {
   "cell_type": "code",
   "execution_count": 24,
   "metadata": {},
   "outputs": [
    {
     "name": "stdout",
     "output_type": "stream",
     "text": [
      "Calib.CrrCalib\n"
     ]
    }
   ],
   "source": [
    "print(Calib.CrrCalib)"
   ]
  },
  {
   "cell_type": "code",
   "execution_count": 27,
   "metadata": {
    "pycharm": {
     "name": "#%%\n"
    }
   },
   "outputs": [
    {
     "data": {
      "text/plain": [
       "51.47819229319342"
      ]
     },
     "execution_count": 27,
     "metadata": {},
     "output_type": "execute_result"
    }
   ],
   "source": [
    "binomialPricer(S =100, r = 0.03, vol = 0.2, \n",
    "               trade = EuropeanOption(expiry = 1, strike = 50, payoffType = PayoffType.Call), n = 300, calib = tianCalib)"
   ]
  },
  {
   "cell_type": "code",
   "execution_count": 17,
   "metadata": {},
   "outputs": [],
   "source": [
    "V_S1 = binomialPricer(S =100 + 100*0.001, r = 0.03, vol = 0.2, \n",
    "               trade = EuropeanOption(expiry = 1, strike = 50, payoffType = PayoffType.Call), n = 300, calib = tianCalib)"
   ]
  },
  {
   "cell_type": "code",
   "execution_count": 18,
   "metadata": {},
   "outputs": [],
   "source": [
    "V_S2 = binomialPricer(S =100 - 100*0.001, r = 0.03, vol = 0.2, \n",
    "               trade = EuropeanOption(expiry = 1, strike = 50, payoffType = PayoffType.Call), n = 300, calib = tianCalib)"
   ]
  },
  {
   "cell_type": "code",
   "execution_count": 19,
   "metadata": {},
   "outputs": [
    {
     "data": {
      "text/plain": [
       "0.9999227967696456"
      ]
     },
     "execution_count": 19,
     "metadata": {},
     "output_type": "execute_result"
    }
   ],
   "source": []
  },
  {
   "cell_type": "code",
   "execution_count": 20,
   "metadata": {},
   "outputs": [],
   "source": [
    "def binomialGreeks(S, r, vol, T, strike, greekType) -> float:\n",
    "\n",
    "    if greekType == GreekType.Delta:\n",
    "        delta_S = 0.001*S\n",
    "        V1 = binomialPricer(S + delta_S, r, vol, \n",
    "               EuropeanOption(expiry = T, strike = strike, payoffType = PayoffType.Call), n = 300, calib = crrCalib)\n",
    "        V2 = binomialPricer(S - delta_S, r, vol, \n",
    "               EuropeanOption(expiry = T, strike = strike, payoffType = PayoffType.Call), n = 300, calib = crrCalib)\n",
    "        return (V1-V2)/(2*delta_S)\n",
    "    elif greekType == GreekType.Gamma:\n",
    "        delta_S = 0.001*S\n",
    "        V = binomialPricer(S, r, vol, \n",
    "               EuropeanOption(expiry = T, strike = strike, payoffType = PayoffType.Call), n = 300, calib = crrCalib)\n",
    "        V1 = binomialPricer(S + delta_S, r, vol, \n",
    "               EuropeanOption(expiry = T, strike = strike, payoffType = PayoffType.Call), n = 300, calib = crrCalib)\n",
    "        V2 = binomialPricer(S - delta_S, r, vol, \n",
    "               EuropeanOption(expiry = T, strike = strike, payoffType = PayoffType.Call), n = 300, calib = crrCalib)\n",
    "        return (V1 - 2*V + V2)/(delta_S**2)\n",
    "    if greekType == GreekType.Vega:\n",
    "        delta_sigma = 0.001\n",
    "        V1 = binomialPricer(S, r, vol + delta_sigma, \n",
    "               EuropeanOption(expiry = T, strike = strike, payoffType = PayoffType.Call), n = 300, calib = crrCalib)\n",
    "        V2 = binomialPricer(S, r, vol - delta_sigma, \n",
    "               EuropeanOption(expiry = T, strike = strike, payoffType = PayoffType.Call), n = 300, calib = crrCalib)\n",
    "        return (V1 - V2)/(2*delta_sigma)\n",
    "    elif greekType == GreekType.Theta:\n",
    "        delta_t = 0.004\n",
    "        V1 = binomialPricer(S, r, vol, \n",
    "               EuropeanOption(expiry = T + delta_t, strike = strike, payoffType = PayoffType.Call), n = 300, calib = crrCalib)\n",
    "        V2 = binomialPricer(S, r, vol, \n",
    "               EuropeanOption(expiry = T, strike = strike, payoffType = PayoffType.Call), n = 300, calib = crrCalib)\n",
    "        return (V1-V2)/delta_t\n",
    "    if greekType == GreekType.Rho:\n",
    "        delta_r = 0.0001\n",
    "        V1 = binomialPricer(S, r + delta_r, vol, \n",
    "               EuropeanOption(expiry = T, strike = strike, payoffType = PayoffType.Call), n = 300, calib = crrCalib)\n",
    "        V2 = binomialPricer(S, r - delta_r, vol, \n",
    "               EuropeanOption(expiry = T, strike = strike, payoffType = PayoffType.Call), n = 300, calib = crrCalib)\n",
    "        return (V1-V2)/(2*delta_r)\n",
    "    else:\n",
    "        raise Exception('greekType not supported:', greekType)"
   ]
  },
  {
   "cell_type": "code",
   "execution_count": 28,
   "metadata": {},
   "outputs": [],
   "source": [
    "def binomialGreeks(S, r, vol, T, strike, greekType, calib) -> float:\n",
    "    if greekType == GreekType.Delta:\n",
    "        delta_S = 0.001*S\n",
    "        V1 = binomialPricer(S + delta_S, r, vol, \n",
    "               EuropeanOption(expiry = T, strike = strike, payoffType = PayoffType.Call), n = 300, calib = calib)\n",
    "        V2 = binomialPricer(S - delta_S, r, vol, \n",
    "               EuropeanOption(expiry = T, strike = strike, payoffType = PayoffType.Call), n = 300, calib = calib)\n",
    "        return (V1-V2)/(2*delta_S)\n",
    "    elif greekType == GreekType.Gamma:\n",
    "        delta_S = 0.001*S\n",
    "        V = binomialPricer(S, r, vol, \n",
    "               EuropeanOption(expiry = T, strike = strike, payoffType = PayoffType.Call), n = 300, calib = calib)\n",
    "        V1 = binomialPricer(S + delta_S, r, vol, \n",
    "               EuropeanOption(expiry = T, strike = strike, payoffType = PayoffType.Call), n = 300, calib = calib)\n",
    "        V2 = binomialPricer(S - delta_S, r, vol, \n",
    "               EuropeanOption(expiry = T, strike = strike, payoffType = PayoffType.Call), n = 300, calib = calib)\n",
    "        return (V1 - 2*V + V2)/(delta_S**2)\n",
    "    if greekType == GreekType.Vega:\n",
    "        delta_sigma = 0.001\n",
    "        V1 = binomialPricer(S, r, vol + delta_sigma, \n",
    "               EuropeanOption(expiry = T, strike = strike, payoffType = PayoffType.Call), n = 300, calib = calib)\n",
    "        V2 = binomialPricer(S, r, vol - delta_sigma, \n",
    "               EuropeanOption(expiry = T, strike = strike, payoffType = PayoffType.Call), n = 300, calib = calib)\n",
    "        return (V1 - V2)/(2*delta_sigma)\n",
    "    elif greekType == GreekType.Theta:\n",
    "        delta_t = 0.004\n",
    "        V1 = binomialPricer(S, r, vol, \n",
    "               EuropeanOption(expiry = T + delta_t, strike = strike, payoffType = PayoffType.Call), n = 300, calib = calib)\n",
    "        V2 = binomialPricer(S, r, vol, \n",
    "               EuropeanOption(expiry = T, strike = strike, payoffType = PayoffType.Call), n = 300, calib = calib)\n",
    "        return (V1-V2)/delta_t\n",
    "    if greekType == GreekType.Rho:\n",
    "        delta_r = 0.0001\n",
    "        V1 = binomialPricer(S, r + delta_r, vol, \n",
    "               EuropeanOption(expiry = T, strike = strike, payoffType = PayoffType.Call), n = 300, calib = calib)\n",
    "        V2 = binomialPricer(S, r - delta_r, vol, \n",
    "               EuropeanOption(expiry = T, strike = strike, payoffType = PayoffType.Call), n = 300, calib = calib)\n",
    "        return (V1-V2)/(2*delta_r)\n",
    "    else:\n",
    "        raise Exception('greekType not supported:', greekType)"
   ]
  },
  {
   "cell_type": "code",
   "execution_count": null,
   "metadata": {},
   "outputs": [],
   "source": [
    "for strike in range(50,151):\n",
    "    binomialGreeks(S = 100, r = 0.03, vol = 0.2, T = 1, strike = strike, greekType = GreekType.Delta)"
   ]
  },
  {
   "cell_type": "code",
   "execution_count": 30,
   "metadata": {},
   "outputs": [
    {
     "data": {
      "text/plain": [
       "0.9999052701712685"
      ]
     },
     "execution_count": 30,
     "metadata": {},
     "output_type": "execute_result"
    }
   ],
   "source": [
    "binomialGreeks(S = 100, r = 0.03, vol = 0.2, T = 1, strike = 50, greekType = GreekType.Delta, calib = jrrnCalib)"
   ]
  },
  {
   "cell_type": "code",
   "execution_count": null,
   "metadata": {},
   "outputs": [],
   "source": [
    "euroPrc, amerPrc = [], []\n",
    "S, r, vol = 100, 0.05, 0.2\n",
    "ks = range(50, 150)\n",
    "for k in ks:\n",
    "    euroPrc.append(crrBinomialG(S, r, vol, EuropeanOption(1, float(k), PayoffType.Call), 300))\n",
    "    amerPrc.append(crrBinomialG(S, r, vol, AmericanOption(1, float(k), PayoffType.Call), 300))\n",
    "plt.plot(ks, euroPrc, 'r', label = 'euroCall')\n",
    "plt.plot(ks, amerPrc, 'g', label = 'amerCall')\n",
    "\n",
    "euroPrc, amerPrc = [], []\n",
    "for k in ks:\n",
    "    euroPrc.append(crrBinomialG(S, r, vol, EuropeanOption(1, float(k), PayoffType.Put), 300))\n",
    "    amerPrc.append(crrBinomialG(S, r, vol, AmericanOption(1, float(k), PayoffType.Put), 300))\n",
    "plt.plot(ks, euroPrc, 'r', label = 'euroPut')\n",
    "plt.plot(ks, amerPrc, 'g', label = 'amerPut')"
   ]
  }
 ],
 "metadata": {
  "kernelspec": {
   "display_name": "Python 3 (ipykernel)",
   "language": "python",
   "name": "python3"
  },
  "language_info": {
   "codemirror_mode": {
    "name": "ipython",
    "version": 3
   },
   "file_extension": ".py",
   "mimetype": "text/x-python",
   "name": "python",
   "nbconvert_exporter": "python",
   "pygments_lexer": "ipython3",
   "version": "3.12.0"
  }
 },
 "nbformat": 4,
 "nbformat_minor": 4
}
