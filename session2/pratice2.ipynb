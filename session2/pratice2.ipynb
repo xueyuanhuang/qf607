{
 "cells": [
  {
   "cell_type": "code",
   "execution_count": 11,
   "id": "296d227b-44f4-4c66-b358-2687a0d8c821",
   "metadata": {},
   "outputs": [],
   "source": [
    "from enum import Enum\n",
    "import math\n",
    "class PayoffType(str, Enum):\n",
    "    Call = 'Call'\n",
    "    Put = 'Put'\n",
    "\n",
    "def oneStepBinomial(S:float, r:float, u:float, d:float, T:float, K:float, payoffType:PayoffType)->float:\n",
    "    p = (math.exp(r*T) - d)/(u - d)\n",
    "    if payoffType == PayoffType.Call:\n",
    "        return math.exp(-r*T) * (p*max(u*S - K, 0) + (1-p)*max(d*S - K, 0))"
   ]
  },
  {
   "cell_type": "code",
   "execution_count": 12,
   "id": "411ced1d-e964-432c-a1ff-eaaf9d43b053",
   "metadata": {},
   "outputs": [
    {
     "data": {
      "text/plain": [
       "7.798504987524955"
      ]
     },
     "execution_count": 12,
     "metadata": {},
     "output_type": "execute_result"
    }
   ],
   "source": [
    "oneStepBinomial(S = 100, r = 0.01, u = 1.2, d = 0.8, T = 1, K = 105, payoffType = PayoffType.Call)"
   ]
  },
  {
   "cell_type": "code",
   "execution_count": 13,
   "id": "c3cd628d-b3c0-4182-894f-6eb91baa8434",
   "metadata": {},
   "outputs": [],
   "source": [
    "from scipy.stats import norm\n",
    "def bsPricer(S, r, T, K, payoffType, vol):\n",
    "    denominator = vol*math.sqrt(T)\n",
    "    d1 = (math.log(S/K) + (r+1/2*vol**2)*T)/denominator\n",
    "    d2 = d1 - denominator\n",
    "\n",
    "    if payoffType == PayoffType.Call:\n",
    "        return S*norm.cdf(d1) - K*math.exp(-r*T)*norm.cdf(d2)\n",
    "    elif payoffType == PayoffType.Put:\n",
    "        return K*math.exp(-r*T)*norm.cdf(-d2) - S*norm.cdf(-d1)\n",
    "    else:\n",
    "        raise Exception(\"not support type: \", payoffType)"
   ]
  },
  {
   "cell_type": "code",
   "execution_count": 14,
   "id": "8d5e1a25-6f2c-422f-9bec-f80e4b4f518c",
   "metadata": {},
   "outputs": [
    {
     "name": "stdout",
     "output_type": "stream",
     "text": [
      "bsPricer:  6.297254539086033\n",
      "oneStepBinomial:  7.798504987524955\n"
     ]
    }
   ],
   "source": [
    "S, r, vol, K, T, u, d = 100, 0.01, 0.2, 105, 1.0, 1.2, 0.8\n",
    "print(\"bsPricer: \", bsPricer(S, r, T, K, PayoffType.Call, vol))\n",
    "print(\"oneStepBinomial: \", oneStepBinomial(S, r, u, d, T, K, PayoffType.Call))"
   ]
  },
  {
   "cell_type": "code",
   "execution_count": null,
   "id": "134fdade-527f-45dc-bf43-ed31e17e5375",
   "metadata": {},
   "outputs": [],
   "source": []
  }
 ],
 "metadata": {
  "kernelspec": {
   "display_name": "Python 3 (ipykernel)",
   "language": "python",
   "name": "python3"
  },
  "language_info": {
   "codemirror_mode": {
    "name": "ipython",
    "version": 3
   },
   "file_extension": ".py",
   "mimetype": "text/x-python",
   "name": "python",
   "nbconvert_exporter": "python",
   "pygments_lexer": "ipython3",
   "version": "3.12.0"
  }
 },
 "nbformat": 4,
 "nbformat_minor": 5
}
