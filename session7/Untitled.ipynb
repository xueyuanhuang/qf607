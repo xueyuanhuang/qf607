{
 "cells": [
  {
   "cell_type": "code",
   "execution_count": 6,
   "id": "66896e33-153c-4270-8488-1361eb782d98",
   "metadata": {},
   "outputs": [
    {
     "name": "stdout",
     "output_type": "stream",
     "text": [
      "Spread Option Price/Std:  103.27625461188438 0.3989069242893653\n"
     ]
    }
   ],
   "source": [
    "import math\n",
    "import numpy as np\n",
    "\n",
    "from treeEx_W4 import SpreadOption\n",
    "from binomial import EuropeanOption, PayoffType, bsPrice\n",
    "    \n",
    "def mcEuropean(S0, T, r, q, vol, nPaths, trade):\n",
    "    np.random.seed(0)\n",
    "    sum,hsquare = 0,0\n",
    "    stdev = math.sqrt(T)\n",
    "    for i in range(nPaths):\n",
    "        wT = np.random.normal(0, stdev)\n",
    "        h = trade.payoff(S0 * math.exp((r - q - 0.5*vol*vol) * T + vol * wT))\n",
    "        sum += h\n",
    "        hsquare += h * h\n",
    "\n",
    "    pv = math.exp(-r*T) * sum / nPaths\n",
    "    stderr = math.sqrt((hsquare/nPaths - (sum/nPaths) * (sum/nPaths)) / nPaths)\n",
    "    return pv, stderr\n",
    "\n",
    "\n",
    "def mcLocalVol(S0, T, r, q, lv, nT, nPaths, trade):\n",
    "    np.random.seed(0)\n",
    "    sum, hsquare = 0, 0\n",
    "    dt = T / nT\n",
    "    sqrtdt = math.sqrt(dt)\n",
    "    for i in range(nPaths):\n",
    "        X = math.log(S0)\n",
    "        for j in range(1, nT+1):\n",
    "            vol = lv.LV((j-1)*dt, math.exp(X))\n",
    "            a = (r - q - 0.5*vol * vol) * dt # drift\n",
    "            b = np.rand.normal(0, sqrtdt) * vol\n",
    "            X += a + b # update state variable\n",
    "        h = trade.payoff(math.exp(X))\n",
    "        sum += h\n",
    "        hsquare += h * h\n",
    "    pv = math.exp(-r * T) * sum / nPaths\n",
    "    stderr = math.sqrt((hsquare / nPaths - (sum / nPaths) * (sum / nPaths)) / nPaths)\n",
    "    return pv, stderr\n",
    "\n",
    "\n",
    "def mcSpread(payoff, S1, S2, T, r, q1, q2, vol1, vol2, rho, nPaths, nT):\n",
    "    np.random.seed(0)\n",
    "    sum, hsquare, C = 0, 0, np.identity(2)\n",
    "    C[0, 1] = C[1, 0] = rho\n",
    "    L = np.linalg.cholesky(C)\n",
    "    for i in range(nPaths):\n",
    "        brownians = np.zeros((2, nT))\n",
    "        dt = T / nT\n",
    "        stdev = math.sqrt(dt)\n",
    "        # generate brownian increments\n",
    "        for j in range(2):\n",
    "            brownians[j] = np.random.normal(0, stdev, nT)\n",
    "        brownians = np.matmul(L, brownians)\n",
    "        x1, x2 = math.log(S1), math.log(S2)\n",
    "        for j in range(nT):\n",
    "            # simulate asset 1\n",
    "            a = (r-q1-0.5*vol1*vol1) * dt # drift for asset 1\n",
    "            b = brownians[0, j] * vol1 # diffusion term for asset 1\n",
    "            x1 += a + b  # update state variable\n",
    "            # simulate asset 2\n",
    "            a = (r-q2-0.5*vol2*vol1) * dt # drift for asset 1\n",
    "            b = brownians[1, j] * vol2 # diffusion term for asset 1\n",
    "            x2 += a + b  # update state variable\n",
    "        h = payoff(math.exp(x1), math.exp(x2))\n",
    "        sum += h\n",
    "        hsquare += h*h\n",
    "    pv = math.exp(-r * T) * sum / nPaths\n",
    "    se = math.sqrt((hsquare/nPaths - (sum/nPaths)*(sum/nPaths))/nPaths)\n",
    "    return pv, se\n",
    "\n",
    "if __name__ == \"__main__\":\n",
    "    payoff = lambda S1, S2: max(S1, S2)\n",
    "    pv, se = mcSpread(payoff, 100, 100, 1, 0.05, 0.02, 0.03, 0.1, 0.15, 0.5, 1024, 100)\n",
    "    print(\"Spread Option Price/Std: \", pv, se)"
   ]
  },
  {
   "cell_type": "code",
   "execution_count": 8,
   "id": "b160c44d-01b7-4d05-88fe-e743a64be8eb",
   "metadata": {},
   "outputs": [
    {
     "name": "stdout",
     "output_type": "stream",
     "text": [
      "European Option MC Price/Std:  4.476328755529045 0.0207823541960935\n",
      "European Option BS Price:  4.485236409022076\n"
     ]
    }
   ],
   "source": [
    "if __name__ == \"__main__\":\n",
    "    S0, K, T, r, q, vol, nPaths = 100, 100, 1.0, 0.01, 0.0, 0.1, 100000\n",
    "    trade = EuropeanOption(T,K, PayoffType.Call)\n",
    "    pv, se = mcEuropean(S0, T, r, q, vol, nPaths, trade)\n",
    "    bsPV = bsPrice(S0, r, vol, T, K, PayoffType.Call)\n",
    "    print(\"European Option MC Price/Std: \", pv, se)\n",
    "    print(\"European Option BS Price: \", bsPV)"
   ]
  },
  {
   "cell_type": "code",
   "execution_count": null,
   "id": "3111ddd1-59de-432d-9219-c588f37f5f56",
   "metadata": {},
   "outputs": [],
   "source": []
  }
 ],
 "metadata": {
  "kernelspec": {
   "display_name": "Python 3 (ipykernel)",
   "language": "python",
   "name": "python3"
  },
  "language_info": {
   "codemirror_mode": {
    "name": "ipython",
    "version": 3
   },
   "file_extension": ".py",
   "mimetype": "text/x-python",
   "name": "python",
   "nbconvert_exporter": "python",
   "pygments_lexer": "ipython3",
   "version": "3.12.0"
  }
 },
 "nbformat": 4,
 "nbformat_minor": 5
}
