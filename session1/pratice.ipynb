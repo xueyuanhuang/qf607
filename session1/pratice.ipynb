{
 "cells": [
  {
   "cell_type": "code",
   "execution_count": 2,
   "id": "55ac774b-3b35-414c-85eb-28eb3dc5cc9e",
   "metadata": {},
   "outputs": [],
   "source": [
    "import timeit\n",
    "\n",
    "def opTiming(op, opName, repeat):\n",
    "    elapsed_time = timeit.timeit(op, setup = 'import math', number = repeat)\n",
    "    print(opName, \"\\t\", elapsed_time/repeat)\n",
    "\n",
    "repeat = int(1e8)\n",
    "#in theory mul will faster than add\n",
    "opTiming(\"x = 5 + 7\", \"add\", repeat)\n",
    "opTiming(\"x = 5*7\", \"mul\", repeat)\n",
    "opTiming(\"x = 5/7\", \"div\", repeat)\n",
    "opTiming(\"x = math.log(7)\", \"log\", repeat)\n",
    "opTiming(\"x = math.exp(7)\", \"exp\", repeat)\n",
    "opTiming(\"x = math.sqrt(7)\", \"sqrt\", repeat)"
   ]
  },
  {
   "cell_type": "code",
   "execution_count": 7,
   "id": "39ecf9c1-e0ee-419d-a24c-86ea51bdf1cd",
   "metadata": {},
   "outputs": [
    {
     "name": "stdout",
     "output_type": "stream",
     "text": [
      "m1 \t 2.2132730829762296e-07\n",
      "m2 \t 1.444291332969442e-07\n"
     ]
    }
   ],
   "source": [
    "m1 = \"\"\"\n",
    "S = 100; K = 105; vol = 0.1; t = 2; mu = 0.01\n",
    "d1 = ((math.log(S*math.exp(mu*t))/K) + vol*vol*t/2)/vol/math.sqrt(t)\n",
    "\"\"\"\n",
    "\n",
    "m2 = \"\"\"\n",
    "S = 100; K = 105; vol = 0.1; t = 2; mu = 0.01\n",
    "stdev = vol*math.sqrt(t)\n",
    "d1 = (math.log(S/K) + mu*t)/stdev + stdev/2\n",
    "\"\"\"\n",
    "\n",
    "repeat = int(1e7)\n",
    "opTiming(m1, 'm1', repeat)\n",
    "opTiming(m2, \"m2\", repeat)"
   ]
  },
  {
   "cell_type": "code",
   "execution_count": 9,
   "id": "c2a49b43-ca0e-456b-9a53-0ad37e26a2f9",
   "metadata": {},
   "outputs": [
    {
     "name": "stdout",
     "output_type": "stream",
     "text": [
      "[1, 1, 1, 0, 1, 1, 0, 0]\n",
      "[1, 1, 1, 0, 1, 1, 0, 1]\n",
      "[1, 1, 0, 1, 1, 0, 1, 1]\n",
      "[0, 2, 1, 0, 0, 0, 0, 0]\n",
      "[0, 1, 0, 1, 0, 0, 0, 0, 0]\n"
     ]
    }
   ],
   "source": [
    "#Converting a real number to signed fixed<w, b>\n",
    "def toFixedPoint(x : float, w : int, b : int) -> [int]:\n",
    "    #set a[w-1] to 1 if x < 0, otherwise set a[w-1] to 0\n",
    "    a = [0 for i in range(w)]\n",
    "\n",
    "    if x < 0: \n",
    "        a[0] = 1\n",
    "        x += 2**(w-1-b)\n",
    "    for i in range(1, w):\n",
    "        y = x / (2**(w-1-b-i))\n",
    "        a[i] = int(y)\n",
    "        x -= a[i] * (2**(w-b-1-i))\n",
    "    return a\n",
    "\n",
    "print(toFixedPoint(-10, 8, 1))\n",
    "print(toFixedPoint(-9.5, 8, 1))\n",
    "print(toFixedPoint(-9.25, 8, 2))\n",
    "#range limited\n",
    "print(toFixedPoint(20, 8, 3))\n",
    "print(toFixedPoint(20, 9, 3))"
   ]
  },
  {
   "cell_type": "code",
   "execution_count": 12,
   "id": "1555bee7-5263-4f21-b1bb-f6fe514dbe8c",
   "metadata": {},
   "outputs": [
    {
     "ename": "OverflowError",
     "evalue": "('fixed<', '8', ',3is not sufficient to represent 20')",
     "output_type": "error",
     "traceback": [
      "\u001b[0;31m---------------------------------------------------------------------------\u001b[0m",
      "\u001b[0;31mOverflowError\u001b[0m                             Traceback (most recent call last)",
      "Cell \u001b[0;32mIn[12], line 19\u001b[0m\n\u001b[1;32m     16\u001b[0m     \u001b[38;5;28;01mreturn\u001b[39;00m a\n\u001b[1;32m     18\u001b[0m \u001b[38;5;66;03m#range limited\u001b[39;00m\n\u001b[0;32m---> 19\u001b[0m \u001b[38;5;28mprint\u001b[39m(\u001b[43mtoFixedPoint2\u001b[49m\u001b[43m(\u001b[49m\u001b[38;5;241;43m20\u001b[39;49m\u001b[43m,\u001b[49m\u001b[43m \u001b[49m\u001b[38;5;241;43m8\u001b[39;49m\u001b[43m,\u001b[49m\u001b[43m \u001b[49m\u001b[38;5;241;43m3\u001b[39;49m\u001b[43m)\u001b[49m)\n",
      "Cell \u001b[0;32mIn[12], line 13\u001b[0m, in \u001b[0;36mtoFixedPoint2\u001b[0;34m(x, w, b)\u001b[0m\n\u001b[1;32m     11\u001b[0m y \u001b[38;5;241m=\u001b[39m x \u001b[38;5;241m/\u001b[39m (\u001b[38;5;241m2\u001b[39m\u001b[38;5;241m*\u001b[39m\u001b[38;5;241m*\u001b[39m(w\u001b[38;5;241m-\u001b[39m\u001b[38;5;241m1\u001b[39m\u001b[38;5;241m-\u001b[39mb\u001b[38;5;241m-\u001b[39mi))\n\u001b[1;32m     12\u001b[0m \u001b[38;5;28;01mif\u001b[39;00m \u001b[38;5;28mint\u001b[39m(y) \u001b[38;5;241m>\u001b[39m \u001b[38;5;241m1\u001b[39m:\n\u001b[0;32m---> 13\u001b[0m     \u001b[38;5;28;01mraise\u001b[39;00m \u001b[38;5;167;01mOverflowError\u001b[39;00m(\u001b[38;5;124m'\u001b[39m\u001b[38;5;124mfixed<\u001b[39m\u001b[38;5;124m'\u001b[39m, \u001b[38;5;28mstr\u001b[39m(w), \u001b[38;5;124m'\u001b[39m\u001b[38;5;124m,\u001b[39m\u001b[38;5;124m'\u001b[39m \u001b[38;5;241m+\u001b[39m \u001b[38;5;28mstr\u001b[39m(b) \u001b[38;5;241m+\u001b[39m \u001b[38;5;124m'\u001b[39m\u001b[38;5;124mis not sufficient to represent \u001b[39m\u001b[38;5;124m'\u001b[39m \u001b[38;5;241m+\u001b[39m \u001b[38;5;28mstr\u001b[39m(x))\n\u001b[1;32m     14\u001b[0m a[i] \u001b[38;5;241m=\u001b[39m \u001b[38;5;28mint\u001b[39m(y)\n\u001b[1;32m     15\u001b[0m x \u001b[38;5;241m-\u001b[39m\u001b[38;5;241m=\u001b[39m a[i] \u001b[38;5;241m*\u001b[39m (\u001b[38;5;241m2\u001b[39m\u001b[38;5;241m*\u001b[39m\u001b[38;5;241m*\u001b[39m(w\u001b[38;5;241m-\u001b[39mb\u001b[38;5;241m-\u001b[39m\u001b[38;5;241m1\u001b[39m\u001b[38;5;241m-\u001b[39mi))\n",
      "\u001b[0;31mOverflowError\u001b[0m: ('fixed<', '8', ',3is not sufficient to represent 20')"
     ]
    }
   ],
   "source": [
    "#solve range limited problems\n",
    "#Converting a real number to signed fixed<w, b>\n",
    "def toFixedPoint2(x : float, w : int, b : int) -> [int]:\n",
    "    #set a[w-1] to 1 if x < 0, otherwise set a[w-1] to 0\n",
    "    a = [0 for i in range(w)]\n",
    "\n",
    "    if x < 0: \n",
    "        a[0] = 1\n",
    "        x += 2**(w-1-b)\n",
    "    for i in range(1, w):\n",
    "        y = x / (2**(w-1-b-i))\n",
    "        if int(y) > 1:\n",
    "            raise OverflowError('fixed<', str(w), ',' + str(b) + 'is not sufficient to represent ' + str(x))\n",
    "        a[i] = int(y)\n",
    "        x -= a[i] * (2**(w-b-1-i))\n",
    "    return a\n",
    "    \n",
    "#range limited\n",
    "print(toFixedPoint2(20, 8, 3))"
   ]
  },
  {
   "cell_type": "code",
   "execution_count": 32,
   "id": "3d1fa642-9f07-45ba-b21c-9506ddfe1a99",
   "metadata": {},
   "outputs": [
    {
     "data": {
      "text/plain": [
       "-10.0"
      ]
     },
     "execution_count": 32,
     "metadata": {},
     "output_type": "execute_result"
    }
   ],
   "source": [
    "#Exercise in assignment 1\n",
    "# implement a function converting fixed point to a real number\n",
    "def toRealNumber(a : list, w : int, b : int) -> [int]:\n",
    "    x = -a[0]*2**(w-1-b)\n",
    "\n",
    "    n = -1\n",
    "    for i in range(w-b, w):\n",
    "        x += a[i]*2**n\n",
    "        n -= 1\n",
    "\n",
    "    n = 0\n",
    "    for i in range(w-b-1, 0, -1):\n",
    "        x += a[i]*2**n\n",
    "        n += 1\n",
    "    return x\n",
    "\n",
    "toRealNumber([1, 1, 1, 0, 1, 1, 0, 0], 8, 1)"
   ]
  },
  {
   "cell_type": "code",
   "execution_count": 34,
   "id": "809bdfb3-6186-4ff2-abd3-fd55abb72704",
   "metadata": {},
   "outputs": [
    {
     "name": "stdout",
     "output_type": "stream",
     "text": [
      "float32 \t exponent bits =  8 \t significand bits =  23\n",
      "float64 \t exponent bits =  11 \t significand bits =  52\n",
      "float64 \t exponent bits =  11 \t significand bits =  52\n"
     ]
    }
   ],
   "source": [
    "import numpy as np\n",
    "for f in (np.float32, np.float64, float):\n",
    "    finfo = np.finfo(f)\n",
    "    print(finfo.dtype, \"\\t exponent bits = \", finfo.nexp, \"\\t significand bits = \", finfo.nmant)"
   ]
  },
  {
   "cell_type": "code",
   "execution_count": 36,
   "id": "0ea09d2d-ba41-45c7-8a40-103eea49233e",
   "metadata": {},
   "outputs": [
    {
     "name": "stdout",
     "output_type": "stream",
     "text": [
      "2.561137080192566e-06\n"
     ]
    }
   ],
   "source": [
    "#round off error\n",
    "x = 10776321\n",
    "nsteps = 123500\n",
    "s = x / nsteps\n",
    "y = 0\n",
    "for i in range(nsteps):\n",
    "    y += s\n",
    "print(x - y)"
   ]
  },
  {
   "cell_type": "code",
   "execution_count": 40,
   "id": "0b3d4495-f4a3-4024-a16a-6105161a59f4",
   "metadata": {},
   "outputs": [
    {
     "data": {
      "text/plain": [
       "True"
      ]
     },
     "execution_count": 40,
     "metadata": {},
     "output_type": "execute_result"
    }
   ],
   "source": [
    "x = 1.56\n",
    "x == x + 1e-16"
   ]
  },
  {
   "cell_type": "code",
   "execution_count": 41,
   "id": "4d9d26f3-5258-4965-a9f1-d0c676eaf946",
   "metadata": {},
   "outputs": [
    {
     "name": "stdout",
     "output_type": "stream",
     "text": [
      "z1 =  234567.781864925\n",
      "z2 =  234567.75\n"
     ]
    }
   ],
   "source": [
    "x = 0.1234567891234567890\n",
    "y = 0.1234567891\n",
    "scale = 1e16\n",
    "z1 = (x-y) * scale\n",
    "print(\"z1 = \", z1)\n",
    "\n",
    "z2 = (x*scale - y*scale)\n",
    "print(\"z2 = \", z2)"
   ]
  },
  {
   "cell_type": "code",
   "execution_count": null,
   "id": "d4736197-16f1-4c24-8142-c98a5bd20a5c",
   "metadata": {},
   "outputs": [],
   "source": []
  }
 ],
 "metadata": {
  "kernelspec": {
   "display_name": "Python 3 (ipykernel)",
   "language": "python",
   "name": "python3"
  },
  "language_info": {
   "codemirror_mode": {
    "name": "ipython",
    "version": 3
   },
   "file_extension": ".py",
   "mimetype": "text/x-python",
   "name": "python",
   "nbconvert_exporter": "python",
   "pygments_lexer": "ipython3",
   "version": "3.12.0"
  }
 },
 "nbformat": 4,
 "nbformat_minor": 5
}
