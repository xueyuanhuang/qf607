{
 "cells": [
  {
   "cell_type": "markdown",
   "metadata": {
    "pycharm": {
     "name": "#%% md\n"
    }
   },
   "source": [
    "### Assignment 1\n",
    "\n",
    "Submission should be in a Jupyter note book (.ipynb)"
   ]
  },
  {
   "cell_type": "markdown",
   "metadata": {
    "pycharm": {
     "name": "#%% md\n"
    }
   },
   "source": [
    "1. Implement a function that converts a ```fixed<w, b>``` representation to a real number. Use two's compement for negative numbers. The function signature is \n",
    "\n",
    "   ```python\n",
    "   def fromFixedPoint(w: int, b:int, bits:[int]) -> float:\n",
    "   # w: width of the binary representation\n",
    "   # b: binary point\n",
    "   ```\n",
    "   Test the following inputs\n",
    "   ```python\n",
    "   fromFixedPoint(10, 3, [0, 1, 0, 1, 1, 0, 0, 1, 1, 0])\n",
    "   ```\n",
    "   ```python\n",
    "   fromFixedPoint(10, 5, [1, 0, 0, 1, 0, 1, 0, 1, 1, 1])\n",
    "   ```\n",
    "   ```python\n",
    "   fromFixedPoint(8, 2, [1, 0, 1, 0, 1, 0, 1, 1])\n",
    "   ```\n",
    "   \n"
   ]
  },
  {
   "cell_type": "markdown",
   "metadata": {
    "pycharm": {
     "name": "#%% md\n"
    }
   },
   "source": [
    "2. Calculate the price of the following questions step by step using two step Cox Rox Rubinstein (CRR) Binomial tree\n",
    "\n",
    "    a. European call option with $S = 100$, $K = 105$, $r = 3%$, $T=1$, $\\sigma = 20%$\n",
    "    \n",
    "    b. European put option with $S = 100$, $K = 105$, $r = 3%$, $T=1$, $\\sigma = 20%$\n",
    "    \n",
    "    c. European call option with $S = 100$, $K = 105$, $r = 3%$, $T=1$, $\\sigma = 10%$\n",
    "    \n",
    "    d. European put option with $S = 100$, $K = 105$, $r = 3%$, $T=1$, $\\sigma = 10%$\n",
    "    \n",
    "    What is the value of the portfolio that is long (a) and short (b)? How about the portfolio that long (c) and short (d)?\n",
    "    "
   ]
  },
  {
   "cell_type": "markdown",
   "metadata": {
    "pycharm": {
     "name": "#%% md\n"
    }
   },
   "source": [
    "3. Greeks measure the sensitivity of the price of derivatives to a change in underlying asset’s parameters. They are used for hedging and risk\n",
    "management. The commonly used greeks are:\n",
    "    * Delta $\\Delta = \\frac{\\partial V}{\\partial S}$: measures the rate of change of the option value with respect to changes in the underlying asset's price.\n",
    "    * Gamma $\\Gamma = \\frac{\\partial^2 V}{\\partial S^2} = \\frac{\\partial \\Delta}{\\partial S}$: measures the rate of change of delta with respect to changes in the underlying asset's price.\n",
    "    * Vega: $v = \\frac{\\partial V}{\\partial \\sigma}$: measures the rate of change of the option value with respect to changes in the underlying asset's volatility.\n",
    "    * Theta: $\\theta = \\frac{\\partial V}{\\partial t}$: the rate of change in the price of an option with respect to pricing time. Note that we normally use $t$ to represent pricing time, $T$ to represent expiry time, time to expiry in our pricer is $T-t$. In the implementation of the pricers that take time to expiry as an argument, we implicitly set pricing time to 0 (present).\n",
    "    * Rho: the rate of change in the price of an option in response to a change in the interest rate.\n",
    "    \n",
    "  The greeks are normally not known in closed form since numerical pricers are used. They are approximated by finite differences:\n",
    "\n",
    "  \\begin{align}\n",
    "    & \\Delta = \\frac{\\partial V}{\\partial S} \\approx \\frac{V(S + \\Delta S) - V(S-\\Delta S)}{2 \\Delta S}, ~~~\\Delta S = 0.1\\% S \\\\\n",
    "    & \\Gamma = \\frac{\\partial V^2}{\\partial S^2} \\approx \\frac{V(S + \\Delta S) - 2V(S) + V(S-\\Delta S)}{\\Delta S^2} \\\\\n",
    "    & v = \\frac{\\partial V}{\\partial \\sigma} \\approx \\frac{V(S, \\sigma +\\Delta \\sigma) - V(S, \\sigma -\\Delta \\sigma)}{2 \\Delta \\sigma } ~~~~~~~\\Delta \\sigma = 0.1\\% \\\\\n",
    "    & \\theta = \\frac{\\partial V}{\\partial t} \\approx \\frac{V(S, t+\\Delta t, T) - V(S, t, T)}{\\Delta t} ~~~~\\Delta t = 0.004 \\\\\n",
    "    & \\rho = \\frac{\\partial V}{\\partial r} \\approx \\frac{V(S, r+\\Delta r) - V(S, r - \\Delta r)}{2 \\Delta r}  ~~~~~\\Delta r = 0.0001\n",
    "  \\end{align}\n",
    "\n",
    "  Implement a Greeks calculater for binomial tree pricer provided below. The signature of the greeks calculator is\n",
    "      ```python\n",
    "      def binomialGreeks(S, r, vol, T, strike, greekType) -> float\n",
    "      ```\n",
    "  Setting $S = 100, r = 0.03, vol = 0.2, t = 0, T = 1$, plot each greeks as a function of strike from 50 to 150. Play with different binomial models and see if there is any difference.\n",
    "  \n",
    "  Note that in practice, the greeks are rescaled with a pre-defined scaler, so that they give a sense of how much PV (Delta) changes with a typical move of the market. The rescaling is not incorporated in this exercise."
   ]
  },
  {
   "cell_type": "code",
   "execution_count": 1,
   "metadata": {
    "pycharm": {
     "name": "#%%\n"
    }
   },
   "outputs": [],
   "source": [
    "# binomial pricer for exercise 3\n",
    "import math\n",
    "from enum import Enum\n",
    "\n",
    "class PayoffType(Enum):\n",
    "    Call = 0\n",
    "    Put = 1\n",
    "    \n",
    "class EuropeanOption():\n",
    "    def __init__(self, expiry, strike, payoffType):\n",
    "        self.expiry = expiry\n",
    "        self.strike = strike\n",
    "        self.payoffType = payoffType\n",
    "    def payoff(self, S):\n",
    "        if self.payoffType == PayoffType.Call:\n",
    "            return max(S - self.strike, 0)\n",
    "        elif self.payoffType == PayoffType.Put:\n",
    "            return max(self.strike - S, 0)\n",
    "        else:\n",
    "            raise Exception(\"payoffType not supported: \", self.payoffType)\n",
    "    def valueAtNode(self, t, S, continuation):\n",
    "        return continuation\n",
    "\n",
    "class AmericanOption():\n",
    "    def __init__(self, expiry, strike, payoffType):\n",
    "        self.expiry = expiry\n",
    "        self.strike = strike\n",
    "        self.payoffType = payoffType\n",
    "    def payoff(self, S):\n",
    "        if self.payoffType == PayoffType.Call:\n",
    "            return max(S - self.strike, 0)\n",
    "        elif self.payoffType == PayoffType.Put:\n",
    "            return max(self.strike - S, 0)\n",
    "        else:\n",
    "            raise Exception(\"payoffType not supported: \", self.payoffType)\n",
    "    def valueAtNode(self, t, S, continuation):\n",
    "        return max(self.payoff(S), continuation)\n",
    "\n",
    "def crrCalib(r, vol, t):\n",
    "    b = math.exp(vol * vol * t + r * t) + math.exp(-r * t)\n",
    "    u = (b + math.sqrt(b * b - 4)) / 2\n",
    "    p = (math.exp(r * t) - (1 / u)) / (u - 1 / u)\n",
    "    return (u, 1/u, p)\n",
    "\n",
    "def jrrnCalib(r, vol, t):\n",
    "    u = math.exp((r - vol * vol / 2) * t + vol * math.sqrt(t))\n",
    "    d = math.exp((r - vol * vol / 2) * t - vol * math.sqrt(t))\n",
    "    p = (math.exp(r * t) - d) / (u - d)\n",
    "    return (u, d, p)\n",
    "\n",
    "def jreqCalib(r, vol, t):\n",
    "    u = math.exp((r - vol * vol / 2) * t + vol * math.sqrt(t))\n",
    "    d = math.exp((r - vol * vol / 2) * t - vol * math.sqrt(t))\n",
    "    return (u, d, 1/2)\n",
    "\n",
    "def tianCalib(r, vol, t):\n",
    "    v = math.exp(vol * vol * t)\n",
    "    u = 0.5 * math.exp(r * t) * v * (v + 1 + math.sqrt(v*v + 2*v - 3))\n",
    "    d = 0.5 * math.exp(r * t) * v * (v + 1 - math.sqrt(v*v + 2*v - 3))\n",
    "    p = (math.exp(r * t) - d) / (u - d)\n",
    "    return (u, d, p)\n",
    "\n",
    "def binomialPricer(S, r, vol, trade, n, calib):\n",
    "    t = trade.expiry / n\n",
    "    (u, d, p) = calib(r, vol, t)\n",
    "    # set up the last time slice, there are n+1 nodes at the last time slice\n",
    "    vs = [trade.payoff(S * u ** (n - i) * d ** i) for i in range(n + 1)]\n",
    "    # iterate backward\n",
    "    for i in range(n - 1, -1, -1):\n",
    "        # calculate the value of each node at time slide i, there are i nodes\n",
    "        for j in range(i + 1):\n",
    "            nodeS = S * u ** (i - j) * d ** j\n",
    "            continuation = math.exp(-r * t) * (vs[j] * p + vs[j + 1] * (1 - p))\n",
    "            vs[j] = trade.valueAtNode(t * i, nodeS, continuation)\n",
    "    return vs[0]"
   ]
  },
  {
   "cell_type": "code",
   "execution_count": null,
   "metadata": {
    "pycharm": {
     "name": "#%%\n"
    }
   },
   "outputs": [],
   "source": []
  }
 ],
 "metadata": {
  "kernelspec": {
   "display_name": "Python 3 (ipykernel)",
   "language": "python",
   "name": "python3"
  },
  "language_info": {
   "codemirror_mode": {
    "name": "ipython",
    "version": 3
   },
   "file_extension": ".py",
   "mimetype": "text/x-python",
   "name": "python",
   "nbconvert_exporter": "python",
   "pygments_lexer": "ipython3",
   "version": "3.7.6"
  }
 },
 "nbformat": 4,
 "nbformat_minor": 2
}
